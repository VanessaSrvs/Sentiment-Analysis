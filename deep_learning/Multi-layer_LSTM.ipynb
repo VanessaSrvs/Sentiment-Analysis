{
 "cells": [
  {
   "cell_type": "markdown",
   "metadata": {},
   "source": [
    "<h3>Import libraries</h3>"
   ]
  },
  {
   "cell_type": "code",
   "execution_count": 1,
   "metadata": {},
   "outputs": [
    {
     "name": "stderr",
     "output_type": "stream",
     "text": [
      "Using TensorFlow backend.\n"
     ]
    }
   ],
   "source": [
    "import warnings\n",
    "warnings.filterwarnings(\"ignore\")\n",
    "\n",
    "import pandas as pd\n",
    "import numpy as np\n",
    "from nltk.tokenize import word_tokenize\n",
    "from sklearn.feature_extraction.text import CountVectorizer, TfidfVectorizer\n",
    "from sklearn.model_selection import train_test_split\n",
    "import gensim \n",
    "\n",
    "from keras.preprocessing.text import Tokenizer\n",
    "from keras.preprocessing.sequence import pad_sequences\n",
    "from keras.utils import to_categorical\n",
    "from keras.models import Model\n",
    "from keras.layers import Dense, Input, Dropout\n",
    "from keras.layers import LSTM, Activation,CuDNNLSTM\n",
    "from keras.models import model_from_json\n",
    "\n",
    "from matplotlib import pyplot as plt"
   ]
  },
  {
   "cell_type": "code",
   "execution_count": 21,
   "metadata": {},
   "outputs": [],
   "source": [
    "def save_fig(fig_id):\n",
    "    print(\"Saving figure\", fig_id)\n",
    "    plt.savefig(os.getcwd()+\"/\"+fig_id, format=\"png\", dpi=300)"
   ]
  },
  {
   "cell_type": "markdown",
   "metadata": {},
   "source": [
    "<h3>Load data</h3>"
   ]
  },
  {
   "cell_type": "markdown",
   "metadata": {},
   "source": [
    "<h3>Tokenizer</h3>"
   ]
  },
  {
   "cell_type": "code",
   "execution_count": 3,
   "metadata": {},
   "outputs": [],
   "source": [
    "data = pd.read_csv(\"data_with_tokens.csv\")\n",
    "data=data.dropna()"
   ]
  },
  {
   "cell_type": "markdown",
   "metadata": {},
   "source": [
    "<h3>Bag of Words Counts</h3>\n"
   ]
  },
  {
   "cell_type": "code",
   "execution_count": 4,
   "metadata": {},
   "outputs": [],
   "source": [
    "def count_vectorize(data):\n",
    "    count_vectorizer = CountVectorizer()\n",
    "    \n",
    "    embedding = count_vectorizer.fit_transform(data)\n",
    "    \n",
    "    return embedding, count_vectorizer\n",
    "\n",
    "X = data[\"text\"].tolist()\n",
    "y = data[\"stars\"].tolist()\n",
    "\n",
    "X_train, X_test, y_train, y_test = train_test_split(X, y, test_size=0.2, random_state=42)\n",
    "\n",
    "X_train_counts, count_vectorizer = count_vectorize(X_train)\n",
    "X_test_counts = count_vectorizer.transform(X_test)"
   ]
  },
  {
   "cell_type": "code",
   "execution_count": 5,
   "metadata": {},
   "outputs": [
    {
     "data": {
      "text/plain": [
       "<1255410x389905 sparse matrix of type '<class 'numpy.int64'>'\n",
       "\twith 98667654 stored elements in Compressed Sparse Row format>"
      ]
     },
     "execution_count": 5,
     "metadata": {},
     "output_type": "execute_result"
    }
   ],
   "source": [
    "X_train_counts"
   ]
  },
  {
   "cell_type": "markdown",
   "metadata": {},
   "source": [
    "<h3>Load word2vec model</h3>\n"
   ]
  },
  {
   "cell_type": "code",
   "execution_count": 6,
   "metadata": {},
   "outputs": [],
   "source": [
    "PATH_WORD2VEC = \"../../GoogleNews-vectors-negative300.bin\"\n",
    "word2vec = gensim.models.KeyedVectors.load_word2vec_format(PATH_WORD2VEC, binary=True,limit=500000)"
   ]
  },
  {
   "cell_type": "markdown",
   "metadata": {},
   "source": [
    "<h3>Overview of the model</h3>"
   ]
  },
  {
   "cell_type": "markdown",
   "metadata": {},
   "source": [
    "<img src=\"https://github.com/gabriel-hurtado/Sentiment-Analysis/blob/DeepLSTM/deep_learning/images/deepLSTM_overview.png\"\n",
    "style = \"width:700px; height:400px;\"> <br> <center>A 2-layer LSTM sequence classifier.</center>"
   ]
  },
  {
   "cell_type": "code",
   "execution_count": 7,
   "metadata": {},
   "outputs": [],
   "source": [
    "from keras.callbacks import ModelCheckpoint"
   ]
  },
  {
   "cell_type": "code",
   "execution_count": 8,
   "metadata": {},
   "outputs": [
    {
     "name": "stdout",
     "output_type": "stream",
     "text": [
      "Found 492840 unique tokens.\n",
      "embedding_weights shape:  (492841, 300)\n"
     ]
    }
   ],
   "source": [
    "all_words = [word for tokens in data[\"tokens\"] for word in tokens]\n",
    "sentence_lengths = [len(tokens) for tokens in data[\"tokens\"]]\n",
    "vocabulary = sorted(list(set(all_words)))\n",
    "\n",
    "EMBEDDING_DIM = 300\n",
    "MAX_SEQUENCE_LENGTH = 35\n",
    "VOCAB_SIZE = len(vocabulary)\n",
    "VALIDATION_SPLIT = 0.2\n",
    "\n",
    "tokenizer = Tokenizer(num_words=VOCAB_SIZE)\n",
    "tokenizer.fit_on_texts(data[\"text\"].tolist())\n",
    "sequences = tokenizer.texts_to_sequences(data[\"text\"].tolist())\n",
    "\n",
    "word_index = tokenizer.word_index\n",
    "print(\"Found %s unique tokens.\" % (len(word_index)))\n",
    "\n",
    "train_data = pad_sequences(sequences, maxlen=MAX_SEQUENCE_LENGTH)\n",
    "labels = to_categorical(np.asarray(data[\"stars\"]))\n",
    "\n",
    "indices = np.arange(train_data.shape[0])\n",
    "np.random.shuffle(indices)\n",
    "train_data = train_data[indices]\n",
    "labels = labels[indices]\n",
    "num_validation_samples = int(VALIDATION_SPLIT * train_data.shape[0])\n",
    "\n",
    "embedding_weights = np.zeros((len(word_index) + 1, EMBEDDING_DIM))\n",
    "\n",
    "for word, index in word_index.items():\n",
    "    embedding_weights[index, :] = word2vec[word] if word in word2vec else np.random.rand(EMBEDDING_DIM)\n",
    "\n",
    "print(\"embedding_weights shape: \", embedding_weights.shape)"
   ]
  },
  {
   "cell_type": "code",
   "execution_count": 9,
   "metadata": {},
   "outputs": [],
   "source": [
    "def LSTM_2layer(embeddings, max_sequence_length, num_words, \\\n",
    "                embedding_dim, trainable=False):\n",
    "    \"\"\"\n",
    "    Function creating the 2-layer LSTM classifier's model graph\n",
    "    \"\"\"\n",
    "    \n",
    "    # Creating the embedding layer pretrained with word2vec vectors\n",
    "    embedding_layer = Embedding(num_words, \\\n",
    "                                embedding_dim, \\\n",
    "                                weights=[embeddings], \\\n",
    "                                input_length=max_sequence_length, \\\n",
    "                                trainable=trainable)\n",
    "    \n",
    "    # define input of the graph\n",
    "    sequence_input = Input(shape=(max_sequence_length, ), dtype=\"int32\", name=\"Input\")\n",
    "    \n",
    "    # Propagate sequence_input through the embedding layer, to get back the embeddings\n",
    "    embedded_sequences = embedding_layer(sequence_input)    \n",
    "    \n",
    "    # Propagate the embeddings through an LSTM layer with 128-dimensional hidden state\n",
    "    X = LSTM(128, return_sequences=True, name=\"LSTM_1\")(embedded_sequences)\n",
    "    # Add dropout with probability 0.5\n",
    "    X = Dropout(0.5, name=\"Dropout_1\")(X)\n",
    "    # Propagate X through another LSTM layer with 128-dimensional hidden state\n",
    "    X = LSTM(128, return_sequences=False, name=\"LSTM_2\")(X)\n",
    "    # Add dropout with probability 0.5\n",
    "    X = Dropout(0.5, name=\"Dropout_2\")(X)\n",
    "    # Propagate X through a Dense layer with softmax activation to get back a batch of 5-dimensional vectors.\n",
    "    X = Dense(6, name=\"Dense\")(X)\n",
    "    # Add a softmax activation\n",
    "    X = Activation(\"softmax\", name=\"Softmax\")(X)\n",
    "    \n",
    "    # Create Model instance which converts sequence_input into X\n",
    "    model = Model(inputs=sequence_input, outputs=X)\n",
    "    \n",
    "    return model"
   ]
  },
  {
   "cell_type": "code",
   "execution_count": 10,
   "metadata": {},
   "outputs": [],
   "source": [
    "from keras.layers.embeddings import Embedding"
   ]
  },
  {
   "cell_type": "code",
   "execution_count": 11,
   "metadata": {},
   "outputs": [],
   "source": [
    "X_train = train_data[:-num_validation_samples]\n",
    "y_train = labels[:-num_validation_samples]\n",
    "X_val  = train_data[-num_validation_samples:]\n",
    "y_val  = labels[-num_validation_samples:]\n",
    "\n",
    "model = LSTM_2layer(embedding_weights, \\\n",
    "                    MAX_SEQUENCE_LENGTH, \\\n",
    "                    len(word_index)+1, \\\n",
    "                    EMBEDDING_DIM, \\\n",
    "                    trainable=False)"
   ]
  },
  {
   "cell_type": "code",
   "execution_count": 12,
   "metadata": {},
   "outputs": [
    {
     "name": "stdout",
     "output_type": "stream",
     "text": [
      "_________________________________________________________________\n",
      "Layer (type)                 Output Shape              Param #   \n",
      "=================================================================\n",
      "Input (InputLayer)           (None, 35)                0         \n",
      "_________________________________________________________________\n",
      "embedding_1 (Embedding)      (None, 35, 300)           147852300 \n",
      "_________________________________________________________________\n",
      "LSTM_1 (LSTM)                (None, 35, 128)           219648    \n",
      "_________________________________________________________________\n",
      "Dropout_1 (Dropout)          (None, 35, 128)           0         \n",
      "_________________________________________________________________\n",
      "LSTM_2 (LSTM)                (None, 128)               131584    \n",
      "_________________________________________________________________\n",
      "Dropout_2 (Dropout)          (None, 128)               0         \n",
      "_________________________________________________________________\n",
      "Dense (Dense)                (None, 6)                 774       \n",
      "_________________________________________________________________\n",
      "Softmax (Activation)         (None, 6)                 0         \n",
      "=================================================================\n",
      "Total params: 148,204,306\n",
      "Trainable params: 352,006\n",
      "Non-trainable params: 147,852,300\n",
      "_________________________________________________________________\n"
     ]
    }
   ],
   "source": [
    "model.summary()"
   ]
  },
  {
   "cell_type": "markdown",
   "metadata": {},
   "source": [
    "<h3>Training the model</h3>"
   ]
  },
  {
   "cell_type": "markdown",
   "metadata": {},
   "source": [
    "As usual, after creating your model in Keras, you need to compile it and define what loss, optimizer and metrics your are want to use. Compile your model using categorical_crossentropy loss, adam optimizer and ['accuracy'] metrics:"
   ]
  },
  {
   "cell_type": "code",
   "execution_count": 13,
   "metadata": {},
   "outputs": [],
   "source": [
    "model.compile(loss='categorical_crossentropy', \\\n",
    "              optimizer='adam', \\\n",
    "              metrics=['acc'])"
   ]
  },
  {
   "cell_type": "code",
   "execution_count": 14,
   "metadata": {},
   "outputs": [],
   "source": [
    "## Create checkpoint that saves the weights each time validation set at each epoch is outperformed by the last one\n",
    "filepath=\"LSTM2layer_weights_best.hdf5\"\n",
    "checkpoint = ModelCheckpoint(filepath, \\\n",
    "                             monitor=\"val_acc\", \\\n",
    "                             verbose=0, \\\n",
    "                             save_best_only=True, \\\n",
    "                             mode=\"max\")\n",
    "callbacks_list = [checkpoint]"
   ]
  },
  {
   "cell_type": "code",
   "execution_count": 15,
   "metadata": {},
   "outputs": [
    {
     "name": "stdout",
     "output_type": "stream",
     "text": [
      "Train on 1255411 samples, validate on 313852 samples\n",
      "Epoch 1/10\n",
      "1255411/1255411 [==============================] - 1192s 950us/step - loss: 1.0974 - acc: 0.5223 - val_loss: 1.0110 - val_acc: 0.5567\n",
      "Epoch 2/10\n",
      "1255411/1255411 [==============================] - 1193s 950us/step - loss: 1.0010 - acc: 0.5629 - val_loss: 0.9727 - val_acc: 0.5711\n",
      "Epoch 3/10\n",
      "1255411/1255411 [==============================] - 1193s 950us/step - loss: 0.9665 - acc: 0.5781 - val_loss: 0.9461 - val_acc: 0.5865\n",
      "Epoch 4/10\n",
      "1255411/1255411 [==============================] - 1194s 951us/step - loss: 0.9453 - acc: 0.5876 - val_loss: 0.9335 - val_acc: 0.5905\n",
      "Epoch 5/10\n",
      "1255411/1255411 [==============================] - 1207s 962us/step - loss: 0.9312 - acc: 0.5940 - val_loss: 0.9250 - val_acc: 0.5939\n",
      "Epoch 6/10\n",
      "1255411/1255411 [==============================] - 1222s 973us/step - loss: 0.9203 - acc: 0.5978 - val_loss: 0.9181 - val_acc: 0.5967\n",
      "Epoch 7/10\n",
      "1255411/1255411 [==============================] - 1199s 955us/step - loss: 0.9115 - acc: 0.6012 - val_loss: 0.9163 - val_acc: 0.5986\n",
      "Epoch 8/10\n",
      "1255411/1255411 [==============================] - 2203s 2ms/step - loss: 0.9039 - acc: 0.6049 - val_loss: 0.9125 - val_acc: 0.5992\n",
      "Epoch 9/10\n",
      "1255411/1255411 [==============================] - 2313s 2ms/step - loss: 0.8967 - acc: 0.6074 - val_loss: 0.9087 - val_acc: 0.6013\n",
      "Epoch 10/10\n",
      "1255411/1255411 [==============================] - 2247s 2ms/step - loss: 0.8915 - acc: 0.6097 - val_loss: 0.9178 - val_acc: 0.5985\n"
     ]
    }
   ],
   "source": [
    "history = model.fit(X_train, y_train, \\\n",
    "                    validation_data=(X_val, y_val), \\\n",
    "                    epochs=10, \\\n",
    "                    batch_size=512, \\\n",
    "                    callbacks=callbacks_list, \\\n",
    "                    verbose=1)"
   ]
  },
  {
   "cell_type": "code",
   "execution_count": 16,
   "metadata": {},
   "outputs": [
    {
     "name": "stdout",
     "output_type": "stream",
     "text": [
      "Saved model to disk\n"
     ]
    }
   ],
   "source": [
    "# Serialize model to JSON\n",
    "\n",
    "model_json = model.to_json()\n",
    "with open(\"model_lstm2layer.json\", \"w\") as json_file:\n",
    "    json_file.write(model_json)\n",
    "    \n",
    "# Serialize weights to HDF5\n",
    "\n",
    "model.save_weights(\"model_lstm2layer.h5\")\n",
    "print(\"Saved model to disk\")"
   ]
  },
  {
   "cell_type": "markdown",
   "metadata": {},
   "source": [
    "<h3>Plotting the training and validation loss</h3>"
   ]
  },
  {
   "cell_type": "code",
   "execution_count": 17,
   "metadata": {},
   "outputs": [
    {
     "data": {
      "text/plain": [
       "dict_keys(['val_loss', 'val_acc', 'loss', 'acc'])"
      ]
     },
     "execution_count": 17,
     "metadata": {},
     "output_type": "execute_result"
    }
   ],
   "source": [
    "history_dict = history.history\n",
    "history_dict.keys()"
   ]
  },
  {
   "cell_type": "code",
   "execution_count": 18,
   "metadata": {},
   "outputs": [],
   "source": [
    "import os"
   ]
  },
  {
   "cell_type": "code",
   "execution_count": 23,
   "metadata": {},
   "outputs": [
    {
     "name": "stdout",
     "output_type": "stream",
     "text": [
      "Saving figure LSTM_2layer_train&valid_loss\n"
     ]
    },
    {
     "data": {
      "image/png": "[encoded data removed]",
      "text/plain": [
       "<Figure size 432x288 with 1 Axes>"
      ]
     },
     "metadata": {},
     "output_type": "display_data"
    }
   ],
   "source": [
    "history_dict = history.history\n",
    "train_loss_values = history_dict['loss']\n",
    "val_loss_values = history_dict['val_loss']\n",
    "\n",
    "num_epochs = 10\n",
    "epochs = range(1, num_epochs + 1)\n",
    "\n",
    "plt.plot(epochs, train_loss_values, 'r', label=\"Training loss\")\n",
    "plt.plot(epochs, val_loss_values, 'b', label=\"Validation loss\")\n",
    "plt.title(\"Training and validation loss\")\n",
    "plt.xlabel(\"Epochs\")\n",
    "plt.ylabel(\"Loss\")\n",
    "plt.legend()\n",
    "\n",
    "save_fig(\"LSTM_2layer_train&valid_loss\")\n",
    "plt.show()"
   ]
  },
  {
   "cell_type": "code",
   "execution_count": 24,
   "metadata": {},
   "outputs": [
    {
     "name": "stdout",
     "output_type": "stream",
     "text": [
      "Saving figure LSTM_2layer_train&valid_acc\n"
     ]
    },
    {
     "data": {
      "image/png": "[encoded data removed]",
      "text/plain": [
       "<Figure size 432x288 with 1 Axes>"
      ]
     },
     "metadata": {},
     "output_type": "display_data"
    }
   ],
   "source": [
    "history_dict = history.history\n",
    "train_acc_values = history_dict['acc']\n",
    "val_acc_values = history_dict['val_acc']\n",
    "\n",
    "num_epochs = 10\n",
    "epochs = range(1, num_epochs + 1)\n",
    "\n",
    "plt.plot(epochs, train_acc_values, 'r', label=\"Training accuracy\")\n",
    "plt.plot(epochs, val_acc_values, 'b', label=\"Validation accuracy\")\n",
    "plt.title(\"Training and validation accuracy\")\n",
    "plt.xlabel(\"Epochs\")\n",
    "plt.ylabel(\"Accuracy\")\n",
    "plt.legend()\n",
    "\n",
    "save_fig(\"LSTM_2layer_train&valid_acc\")\n",
    "plt.show()"
   ]
  },
  {
   "cell_type": "markdown",
   "metadata": {},
   "source": [
    "<h3>Evaluate model</h3>"
   ]
  },
  {
   "cell_type": "code",
   "execution_count": 29,
   "metadata": {},
   "outputs": [
    {
     "name": "stdout",
     "output_type": "stream",
     "text": [
      "313853/313853 [==============================] - 420s 1ms/step\n",
      "acc on test data: 61.11%\n"
     ]
    }
   ],
   "source": [
    "## Evaluate model directly without loading json and hdf5 files\n",
    "scores = model.evaluate(test_data, labels_test)\n",
    "print(\"%s on test data: %.2f%%\" % (model.metrics_names[1], scores[1]*100))"
   ]
  },
  {
   "cell_type": "code",
   "execution_count": 30,
   "metadata": {},
   "outputs": [],
   "source": [
    "\n",
    "sequences = tokenizer.texts_to_sequences(data[\"text\"])\n",
    "\n",
    "word_index = tokenizer.word_index\n",
    "\n",
    "pdata = pad_sequences(sequences, maxlen=MAX_SEQUENCE_LENGTH)\n",
    "labels = to_categorical(y)\n",
    "\n",
    "indices = np.arange(pdata.shape[0])\n",
    "np.random.shuffle(indices)\n",
    "dataShuffle = pdata[indices]\n",
    "labelsShuffle= labels[indices]\n",
    "\n",
    "\n",
    "_, X_test, _, y_test = train_test_split(dataShuffle, labelsShuffle, test_size=0.2, random_state=42)\n"
   ]
  },
  {
   "cell_type": "code",
   "execution_count": 31,
   "metadata": {},
   "outputs": [],
   "source": [
    "X = np.array(data[\"text\"])\n",
    "X=X[indices]\n",
    "_, text_test, _, _ = train_test_split(X, labelsShuffle, test_size=0.2, random_state=42)\n"
   ]
  },
  {
   "cell_type": "code",
   "execution_count": 32,
   "metadata": {},
   "outputs": [
    {
     "name": "stdout",
     "output_type": "stream",
     "text": [
      "100/100 [==============================] - 0s 4ms/step\n"
     ]
    }
   ],
   "source": [
    "y_pred=model.predict(X_test[0:100], verbose=1)  "
   ]
  },
  {
   "cell_type": "code",
   "execution_count": 33,
   "metadata": {},
   "outputs": [
    {
     "name": "stdout",
     "output_type": "stream",
     "text": [
      "---------------------\n",
      "took my nephew to get some Nike's that he wanted...I wish I could remember the name of the guy that helped us...he was super duper nice...anywho, they didn't have the shoe in store...so he tracked it down and ordered it for us with free shipping to my nephew's house. :)high five for great customer service guys! :)\n",
      "Prediction is 5 truth is 4\n",
      "---------------------\n",
      "We moved here from New Mexico a few months ago, worried about where we were going to get our red and green chili fix (chile truly is addicting!). My son, who already lived here told us about Carlito's. OMG! Not only is the food they serve awesome, I can also buy chile to take home and use in my cooking. Carlito's definitely rewards it's return customers.If you give them your phone number when you order, they will track your purchaes, and give you $5 for every $50 you spend. We live about 15 minutes away, but we still manage to eat there 2-3 times a week, especially for the breakfast burritos, (which are delicious any time of day) and 1/2 price all day Sunday and until 11 a.m. on Wednesday.\n",
      "Prediction is 5 truth is 5\n",
      "---------------------\n",
      "I've eaten in this restaurant before and it was good.  However, it wasn't this last time.  I am a vegetarian, so I ordered the vegetarian roll and tempura vegetables.  The roll was only 4 pieces and it was wide, but there were little vegetables and lots of rice.  I ordered a second roll, and requested that they put more vegetables and less rice, but that too was way too much rice and slightly more veggies.  The tempura vegetables were nothing to write home about.  They were greasy and there was pepper, but no sweet potato.I was disappointed, particularly when the quality goes down.\n",
      "Prediction is 2 truth is 2\n",
      "---------------------\n",
      "I visited this restaurant on a bit of whim and did not regret it one bit. When my dinner companion and I arrived, the friendly server let us know that the restaurant was a BYOB. He told us they'd hold our table while we walked around the corner to SAQ to buy our wine. Dinner was lovely! It's a small place with an open kitchen and the menu is changed seasonally. Win. Win. Win. My dinner companion had gazpacho followed by the bison/roasted potatoes and the flourless chocolate cake. I had what I would call sweetbreads (rilles de veau) and then duck confit for my main. The duck was served with perfectly prepared lentils de puy. Delicious! I was too full for dessert but seriously considered the crème brulee.  This restaurant doesn't have many ratings out here yet, but trust me, it's worth a visit. Just remember to take your wine. :-)\n",
      "Prediction is 5 truth is 4\n",
      "---------------------\n",
      "Welcome to beautiful Gila Bend, Arizona! If you are here, I am sorry for you.But if you are in Gila Bend you may as well stop at Holt's Shell.I stopped to go to the bathroom and ended up spending a lot more time here than I anticipated. The bathrooms are clean enough for middle of nowhere convenience store bathrooms. The convenience store itself is also clean with friendly staff and a decent selection. Basically everything you could ask for when you have stop in the middle of nowhere.What really sets this place apart though is outside they have tons of ceramics and wood pieces that cost a fraction of what they would cost if you were in a big city. I ended up spending quite a while looking as stuff and getting sticker shock, but in a good way. \"That is only 10 bucks?!?!\"Unfortunately I have a small car that was already full, or I would have bought a bunch of stuff. Next trip I am planning ahead and making room in the car to bring stuff back.Again, it kinda sucks to be in Gila Bend, but Holt's rocks!\n",
      "Prediction is 4 truth is 4\n",
      "---------------------\n",
      "The Eiffel Tower Restaurant was very good.  The view of the Bellagio and the fountains is really great.  The service was quick.  I had the French Onion Soup to start and didn't expect it to be creamy, so I was a little skeptical at first, but it ended up being very yummy.  All the flavors were perfect.  For dinner, I had the Filet Mignon and it was good, but it was undercooked.  I asked for medium and it was more medium-rare.  The meat was tender though.  For dessert, I had creme brulee.  It was quite good and a big portion.  Mine was perfectly cooked, but others at my table said their's was a little soupy.  All in all, I would recommend coming here.  The food was delicious and the view was excellent.\n",
      "Prediction is 4 truth is 4\n",
      "---------------------\n",
      "To begin with this hotel was great in both price and costumer service.Kaylie, i belive her name was, the receptionist was really nice and very complient with my daughter. she was really helpful and friendly towards my daughter that she took the fear of being alone in her room thanks!for the price i payed $88 dollars at a very late book in, and an early arrival time it was one in a million. other motels ive been on where i book 3 weeks in advance and pay probably double cannot compare to this inn. complimentary breakfast, complimentary toothbrush and toothpaste, clean sheets and a very spacious room and bed cannot be attained at that price... you guys are the best!\n",
      "Prediction is 5 truth is 5\n",
      "---------------------\n",
      "The hilton is a great place to stay. it's north of the strip, but i would much rather stay here, pay a little extra than to stay at a bargain hotel on the strip.  the rooms are clean, the staff is nice, and most of all, it's not infested with hookers.the hiltonlas vegas is a personal favourite of mine, and you gotta love the big ass barry manilow picture on the side of the hotel haha\n",
      "Prediction is 4 truth is 4\n",
      "---------------------\n",
      "This place is amazing! I tried the Local Plate and it was delightful! They have a variety of dishes, really feeling and affordable. Can't go wrong with the mac salad, it was delicious! The ambience was nice and relaxing. A great place to stop by with your friends. The staff was really nice and knew the menu. I wish there was one in SoCal.\n",
      "Prediction is 5 truth is 5\n",
      "---------------------\n",
      "Very clean, simple and pleasant. I went there yesterday after reading some yelp reviews. I called ahead of time to inquire about massage chairs and if they sterile the equipment, \"yes\" to both. Its a small salon, no frills but just perfect for relaxing, the tech spent 1 hour pampering my feet!  And you can't beat the price. Mani/pedi $40. I will definitely be back.\n",
      "Prediction is 5 truth is 4\n",
      "---------------------\n",
      "It took me a while to construct this review - mostly because I forgot that I'd even tried this place. TBH, the most memorable aspect of the meal was the company of my dining companion. While there is nothing wrong with that, for a restaurant that had quite a few yelpers raving, I was disappointed.My first impression of the place was that it was really, really dark. It took a while for my eyes to adjust to the darkness, but after they did, I was able to appreciate the oriental-inspired decor. While I was waiting for my friend to arrive, I ordered a Green Thumb per the recommendation of our host. It was a refreshing cocktail of cucumber juice, gin, and a splash of ginger beer. It also happened to go extremely well with the food we ordered. What a happy coincidence! Other than that, our meal was average...nothing spectacular and definitely nothing I would find myself craving on any given day. We ordered the shu mai and brie/apple pizza. The shu mai comes as an order of three good-sized dumplings doused in a splash of dumpling sauce. They certainly don't skimp on the shu mai ingredients, but I think it was really the dumpling sauce that did the trick. As for the pizza, I'm not a big fan of brie or apple, but together, they worked. The thin crust was a little lacking in flavor, but otherwise, it was a solid pie.All in all, I'd say that Natt Spil isn't quite a 3, but it also is not so mediocre as to only merit 2 stars...so take that as you will!\n",
      "Prediction is 3 truth is 3\n",
      "---------------------\n",
      "Stopped by with my daughter - they were open but unable to make pizza for 45 minutes!!  Huh?  Thanks for the heads up - no need to try again with competition everywhere.\n",
      "Prediction is 1 truth is 1\n",
      "---------------------\n",
      "The Scotsman Hotel is a great venue for many occasions, this occasion was a afternoon tea with some Yelpers in one of the function rooms. It was a nice big banquet table set up and we were brought to the room by one of the bartenders. We were then handed to the very capable hands of a function manager - she took our coats and  sat us down.  we were sat on a table with full linen and (porcelain?) crockery. Our water glasses were promptly filled. Once we all sat down she placed the napkin and took our tea orders. They had a full complement of loose teas. I went for the famous Scotsman breakfast and an additional Jasmine green tea. These are served in full sized classic teapots and strainers. She also fully explained the delight that were served to us - after ensuring that there were any dietary requirements. Scones, clotted cream, sliders, bon bons, profiteroles, soldier cut crust-less sandwiches with salmon cucumber, egg, ham, cheese and also some flap jacks and carrot cakes. The acoustics of the room allowed for a conversation to be followed from all over the table without getting too loud., although the level of conversation topics was at times a bit questionable, but that cannot be attributed to the Scotsman :o)I had a wonderful time and relay enjoyed the visit. This is something i would be proud to take my mum to when she visits Edinburgh!\n",
      "Prediction is 4 truth is 4\n",
      "---------------------\n",
      "So what does he want for dinner but ice cream. It's okay, we are adults and stuck in a Las Vegas airport, so it actually makes sense. He ordered a soft serve ice cream in a cup with butterfinger like crumbles everywhere. Whatever makes you happy...\n",
      "Prediction is 4 truth is 4\n",
      "---------------------\n",
      "I had been to Nobu a couple times in the past, good sushi, nice rolls, nothing that blew me away.  That changed this last time.  I went with a group of colleagues and rather than order off the menu, we had the waiter pick some dishes and have them bring them out and it was fantastic.  We had a variety of fish dishes, some sliced super thin with great seasonings, my favorite was one that had a great ginger finish to it.  If you get the chance to let the waiters pick a variety of dishes for you, I highly recommend it.\n",
      "Prediction is 5 truth is 4\n",
      "---------------------\n",
      "Chef Lucciano Pelligrini recently won a James Beard award. What for? He got it for being the man behind the best italian restaurant west of the mississippi. The food here is subliminal. Also, if you can manage to come here for the annual truffle fest... wow.\n",
      "Prediction is 5 truth is 5\n",
      "---------------------\n",
      "A quaint hippie place that we came across one afternoon. The first thing i noticed when I walked in was the strong smell of coffee. They clearly care about the coffee here. They have a nice setup in back for roasting their own beans and it seemed about half their business is in selling beans. As any hippie place worth its salt, their coffee is fair trade and their milk is organic.  They have a variety of bulk grains and nuts for available as well, but Their focus is really on the coffee. The staff were friendly and working hard as the place was slammed. They've got Wi-Fi available and a unique but lovely decor. A nice change from the run of the mill coffee shop chain.\n",
      "Prediction is 4 truth is 4\n",
      "---------------------\n",
      "Saw a concert here, a Disney show, and a couple of basketball games! Love the spacious venue and every seat In the house seemed like a good seat! Staff is helpful when looking for an exit or the bathrooms, concession is pricey but what do you expect from a big arena like this one? I enjoy coming here, parking is a breeze, wether you park in their garage or an outside lot, it's easy to find and cheap!! :) can't wait for the next event I come here to see!\n",
      "Prediction is 5 truth is 5\n",
      "---------------------\n",
      "This review is not for a weekend buffet. I was mostly unimpressed with the actual food. There was a pretty diverse offering which was good, but nothing was truly great. Nothing special with desserts either. Kind of what you would get at any decent buffet place in vegas I feel.\n",
      "Prediction is 2 truth is 2\n",
      "---------------------\n",
      "Food is great; service is not-so-great.  The food came out quickly; however, the wait staff was not the nicest.\n",
      "Prediction is 3 truth is 3\n",
      "---------------------\n",
      "My wife had been wanting to try this place for awhile and finally on this trip we went...three times for breakfast. Each time our service was solid and the food great. Sometimes things were slow, but the staff was always in communication and never was too behind.Corned beef and poached eggs...outstanding. Not your diner corned beef hash...shredded deliciousness here. Eggs were perfect. And served with home-made bread to soak up all the goodness.Sit outside if you can, to enjoy the people watching and the view of the Bellagio...even if it's chilly, they've got great outdoor heaters that keep the atmosphere comfortable.\n",
      "Prediction is 4 truth is 4\n",
      "---------------------\n",
      "Great food. Service was solid. I love their samplers and it lets you choose the meat you are game for that day. The beer selection is good as well. I recommend it if you are by TW for an event.\n",
      "Prediction is 4 truth is 4\n",
      "---------------------\n",
      "Been looking for solid Mexican food since moving from CA two years ago. This place is amazing. Homemade tortillas, high quality and great flavors. Can't recommend enough, will be back for sure.\n",
      "Prediction is 5 truth is 5\n",
      "---------------------\n",
      "I was in a jam as my car in the parking lot at Charlotte Airport broke down after midnight the night before the storm.   I called the kiddos and they said that it would be about 15 minutes to get somebody to the airport. Considering I thought I was going to be there all night that was a bargain. Driver arrived when he said he would and where he said he would.  The price from the airport to Matthews was not cheap but given my alternative and how friendly and efficient the driver Michael was I would book executive again with no hesitation.\n",
      "Prediction is 5 truth is 4\n",
      "---------------------\n",
      "I figured i'd write a review on the restaurant since there's not that many. I ordered a Gyro after drinking for a bit (yeah that 151 was rough....) and honestly, it was the best Gyro I have ever had. On numerous occasions I've ordered Gyro's in the past and they just didn't taste fresh. Whether it was the vegetables, the meat, the flatbread etc. Here? Everything was fresh and hot. The lamb was amazing. And the portion is a good side. The decoration is pretty good. They have TV's and the diner has a very rustic charm to it. They also serve beer and wine so you can get that fix if you want. Price was about 8 bucks per Gyro so it's a little pricey but you can taste the quality. Better to spend an extra 3$ on something that's done right than be a cheap skate and get a average to meh Gyro. The only downside is that it's a little small in the inside but you should be able to get a seat. Overall it's a great little place to check out.\n",
      "Prediction is 4 truth is 4\n",
      "---------------------\n",
      "I came here on a Saturday night to watch an ASU game and have a nice dinner. It's located right off Scottsdale Road, easily visible from the street. There was no wait when we came (around 8PM) but very packed. We were seated at a bar top and were quickly greeted by our waiter. I decided to order a raspberry margarita, which was pretty good. I do prefer margaritas on the rocks and this one was frozen. I ordered a caesar salad to start and the chicken alfredo. The alfredo pasta came with rotini noodles, which I liked but reminded me slightly of a macaroni and cheese. The portion was HUGE though, definitely share or plan to take a lot home! Everything was good, the place has a bunch of TV's and the bar area with the TV on was really loud. If you don't like to watch sports while eating/drinking, I probably wouldn't come here. But, if you don't mind it or like it, it's a fun place to check out. Overall, I had a good time and would recommend.\n",
      "Prediction is 4 truth is 4\n",
      "---------------------\n",
      "Sometimes when I get too lazy to drive all the way to town square, the fashion show mall, or galleria mall to get my retail therapy fixed.  I'll just stop by Marshalls since its 5 minutes away from where I live.I find great tops & shoes almost every time I am there.  I think Marshalls has made become a shoe-aholic but I resist my temptations on buying shoes that I probably wont wear. The store is somewhat organized. One must be patience to go through the racks and look at the clothes one at a time because trust me you can find an AMAZING top/jeans/jacket/etc for a great price. Also, I found a great case for my ipad3 &  a yoga mat.  There are some awesome home decor & cheap essie nail-polish there (if your into nail-polishes).\n",
      "Prediction is 5 truth is 4\n",
      "---------------------\n",
      "my favorite popcorn hands down something about it that makes it so good...my favorite is the cashew popcorn\n",
      "Prediction is 5 truth is 5\n",
      "---------------------\n",
      "While there are some good items on the menu, the short answer is dine with caution. I would suggest dining here only out of convenience or perhaps happy hour.Nachos appetizer is great! They include generous helpings of everything you would want. Steak Fajitas are abysmal. The quality of the steak was so low, that they should finely chop the steak Filberto's style (pre-chewed). For the price your paying, you will feel robbed.The service was poor. The only person who seemed to care about what was going on was the Mexican in charge of chips service. I saw him frequently checking the dining room status. Unfortunately for us, the same attention was not paid by our waiter to our water or beer service. Waited 10+ minutes after chips to receive drinks. The ambiance - well decorated and remodeled from what it was prior. Good looking interior. We unfortunately were sat by a group of stay at home moms listening to a sales presentation for a weight wrap. While slightly hilarious, I would have expected any self-respecting business owner to realize how destructive to other patrons dining experience multiple 40 year old women standing and giving weight band sales testimonials would be.\n",
      "Prediction is 1 truth is 2\n",
      "---------------------\n",
      "Really Cool Spot! A bit of a weight on a Friday night, but it cool that you can have drinks & apps on the patio. Drinks were good and strong. Chips and Salas really good too. Tacos are street style so small in size, large in flavor. If you r hungry, ap and maybe 3 tacos would be perfect.\n",
      "Prediction is 4 truth is 4\n",
      "---------------------\n",
      "The pasties are yummy and the variety is almost overwhelming. I ordered the chicken tikka and boy oh boy was it such an incredibly tasty pasty! The service was not overly quick but well paced because they bake the pasty fresh.  I am interested in the dessert options\n",
      "Prediction is 4 truth is 4\n",
      "---------------------\n",
      "Beau, Bon, Maison !pas cher ! apportez votre vin ! La carte de pâtes faites maison et de pizza four a bois marie bien le menu classique italien et autres fantaisies du chef. Les entrées sont généreuses, le service est rapide et serviable.Ambiance bruyante et le décor est plus ou moins élaboré, mais bon, c'est pas pour ça qu'on est la !Rien à redire, un des meilleurs endroits de la petite italie à mon avis !(réservez si plus de 4)\n",
      "Prediction is 4 truth is 5\n",
      "---------------------\n",
      "This is my favorite Asian buffet in Las Vegas!  I've been to the one on Rainbow as well, but IMHO this one is better.I've been here for dinner several times, and now I can't bring myself to order crab legs at any other restaurant.  I mean, why pay $$$ for (if you're lucky) a pound of crab legs in a fancy schmancy place when I can gorge myself on fine quality crustacean appendages at Buffet at Asia for less than $20?!  Add a big bowl of melted butter and 18 wetnaps, and I'm a happy girl.Their other buffet selections are consistently tastey, hot, and quickly re-filled when supplies get low.  Chinese, Dim Sum, Thai, Sushi, Japanese, Korean, Mongolian ... They've got it all covered, and they do it very well.  Highly recommended!\n",
      "Prediction is 5 truth is 4\n",
      "---------------------\n",
      "The employee working the counter was having a hard time processing my order in the register and finally stated they were in training before going to find help. I understand there is a learning curve and it takes time to learn new procedures, but having a trainee flying solo at the register during lunch hour was probably not one of Jack's best decisions. This definitely wasn't fast food. The tacos I ordered were not your typical, hot and greasy JITB tacos. They were cold and not very tasty. Iced Tea is not available with all of the other beverages when dining in. You must get it from behind the counter, which only adds to the delay and frustration. I frequent the drive thru at this location and have never really had an issue. This was my first dine-in experience and it may be awhile before I return.\n",
      "Prediction is 2 truth is 2\n",
      "---------------------\n",
      "another college bar, just away from Mill but still the same old. Cheap drinks on Thursday. Music is ok, the parking lot is fantastic and if you want to avoid running into your students, better check somewhere else.\n",
      "Prediction is 3 truth is 3\n",
      "---------------------\n",
      "I don't normally review chains but this one is tiny and local so I figured I give it a quick and dirty review anyway if only to spew off a few words about this Sandwich Shop.Not that there's a lack of sandwich shop in Montreal. There's a lack of seriously good ones and I think Sac Wich can somewhat fill that hole though it's not a Mom and Pop store and any shop that claims to be \"The Best Sandwiches in Town\" will undergo certain cynical scrutiny. But I don't believe Sac Wich tries to move in on the Mom and Pop stores' turf but rather it's telling the bigger shops like Subway and Quisnoz that they can do better and here's the proof.Sac Wich has a gimmick which if the chain grows I foresee they will give up which consists of picking a brown paper bag writing your name on it and picking your sandwich from the list off the bag. Cutsey at best but I don't care for it. I much rather communicate verbally with my hosts what it is I want. Apparently it's about getting the customer more involved in the process. Maybe I'm just not motivated by this and am reminded of Kramer's build your own Pizza fiasco. Also if I'm eating in, I don't see the need to trash an extra high quality paper bag in these days of environmental sustainability. But I won't let a paper bag get in my way of a good Sandwich.The owner was on site and hand held me through the whole process and I was tempted to put him through the ringer when I spotted the Philly Steak sandwich. If you're the best sandwich in town and you have a Cheesesteak on your menu well this dude who lived in Philly is tempted to put you on the spot about your cheesesteak. But it's not served wit whiz so obviously not a real Philly cheesesteak so I opted for the Prime Rib to avoid probable disaster instead.So Sliced Primed Rib (yeah yeah), Gouda, Roasted Red Peppers, Roasted Onions, Tomatoes, Basil, and Aioli sauce all on some dense chewy Chiabatta bread. All fresh and not cheaply portioned. Sounds good huh? Well you would be right. They set up your sandwich and then stick the sucker in a brick oven to heat it up real good. No not a microwave oven, a brick oven. So what you get is one hot crispy tasty sandwich with a side.A side of what? Well like the big chains you have your chips but they also have cold vegetable and pasta salads and to differ they have criss-cross-cut French fries which I took. I love those. Sadly they were soggy or soft. I expect them to be crispy with this cut but they were still ok and served with a zesty mayo. You also have a choice of pop but also a good selection of beers and wines bringing a more European feel to the shop than an American one. Something Montrealers can better identify with than soft pre-digested slop served at Subway'sIn all the sandwich menu is somewhat predictable with some surprises but way above what your options are at Subway's and Quiznos and tastier. But it doesn't top the homemade taste of Italian sandwich shops where you eat sandwiches until you explode like the fat man in a Monty Python sketch because they are THAT good. But scanning your meager options when at the AMC theater for a movie, this is some good eats.Despite being a sandwich chain I can't help but give a slamming 4 outta 5.\n",
      "Prediction is 4 truth is 4\n",
      "---------------------\n",
      "This place has great Mexican food at great prices.  However, if you are looking for fine dinning or an Americanized Mexican - keep looking it is dive-y.  Many of the items on the menu are commonly discarded cuts of meat, including tongue, guts and head (lengua, tripa and cabeza).  The fact that they have these cuts makes this place authentic.  Also on the menu is pastor, carnitas, suadero, chorizo and bistec... look them up - I did.  I really wanted to keep this secret treasure to myself, but they survive purely on word of mouth so I had to say something.  They also serve breakfast (omelets and breakfast burritos) and  camarones (shrimp) in several ways including a la diabla.Why not 5 stars... the past two times I was there the soda machine broke down and that is how they serve ice tea.  I gotta have ice tea with my meal.\n",
      "Prediction is 4 truth is 4\n",
      "---------------------\n",
      "Would you like bad service, long wait times for your food and a big glob of grisly fat in your steak quesadilla? Then this is the place for you. But wait..you get more, a large amount of hummus with a very small amount of pita and when you ask for more pita you get charged for it.  The hummus and pita proportions are off by 100%.  Come on Eddie $2 for an extra pita when there is not enough on the plate to begin with..really??  The most disappointing part of our meal was the lack of concern by our waitress, my friend almost threw up after chewing on the large piece of fat and she didn't even ask us if we wanted anything else, if she could get us anything..she only charged us for the pita and forgot to take the quesadilla off our bill.  But she was very quick to grab the quesadilla off our table after seeing the piece of fat. Bad service. Bad food. Bad time.\n",
      "Prediction is 1 truth is 1\n",
      "---------------------\n",
      "Nice staff. Excellent price for laundered dress shirts. They even fold french cuffs for no additional charge unlike some places I've been to. The drive-thru service is pretty cool, too. Would recommend this store to anyone.\n",
      "Prediction is 5 truth is 4\n",
      "---------------------\n",
      "I'm giving 4 stars instead of the 3+question mark because maybe I'm just ignorant.  But let me put it to ya straight: yes, it's so very possible to have a bad steak. However, is it really possible to keep improving steak beyond that incredible melt in your mouth heavenly consistency?  I have eaten steak at Gordon Ramsay and I am going to answer no. There is nothing that this man has done that has made his steaks worth the $50, $70, even $95 price point!  And this is just a 6 oz cut of beef mind you, not a dinner, not sides, or a few pieces of arugula paired with a demure wedge of tomato. All of that's extra. I wasn't impressed, but I also wasn't paying. If you find yourself in this delightful situation, order the group-appetizer that comes on the octopus platter.  Every type of prawn, oyster, and tiny sea creature of the soft and hard shell variety comes on that platter.  Being a seafood person, I got down 'n dirty in my little glittery dress.  Now the octopus platter, I was impressed with.  The steaks, take em or leave em.  It should be called, Gordon Ramsay Octopus Appetizer.  But maybe that would put people off.\n",
      "Prediction is 3 truth is 4\n",
      "---------------------\n",
      "I absolutely love this place. The food is great and the drink specials are amazing. They always have something going on on the weekends. It's my go to bar on the weekend.\n",
      "Prediction is 5 truth is 5\n",
      "---------------------\n",
      "This review is for the 24-hour restaurant.  First off I have to say that the service here is pretty bad.  They're kinda slow and it's usually busy so that doesn't help.  It sometimes takes a while for them to decide who your server is and/or for them to come take your order.  That said, I still come to Ellis to eat because the food's good and it can be very cheap.  You kinda have to know about the specials tho.  (don't think they're on the menu)  Basically, I get 1 of 2 things when I go.  Either the \"Dinner Special\" (soup or salad, nice sized thick cut steak, potato and green beans, and a beer which they brew there; all for $6.99)  It says on the place mats that they are one of the top 10 breweries in America.  I'm not a beer expert, but it is good and they have a variety of kinds to choose from.  They're cheap too at somewhere around $2.  They even make their own Root Beer, (which you can get with the dinner special instead of a beer) but beware that it's very, very sweet.  The other thing I order is the steak and eggs for $4.99 (thin but decent steak, eggs made-to-order, hash-browns, and toast.)  Both are a great value.  The dinner more so therefore I usually get that.  I have eaten the steamed clams a couple times as well and they are delicious!  They also have a BBQ restaurant at which, I've been told, are the best ribs in Vegas.  Sadly I haven't eaten there yet but I look forward to checking it out.  :) BTW, to my fellow Casino Employees:  bring your badge and get 2 free drinks at the bar from 3am-8am.\n",
      "Prediction is 4 truth is 4\n",
      "---------------------\n",
      "You can tell these guys like what they do. Food is prepared nicely and they are a fast casual type of place. The lunch crowd fills this place pretty regularly but I want to come in at night to try a rack of ribs next. I had the brisket sandwich and it did not disappoint!\n",
      "Prediction is 4 truth is 5\n",
      "---------------------\n",
      "Terrific customer service and selection here. If you need parts for appliances of any kind I highly recommend this company. Mike H was super helpful & informative.\n",
      "Prediction is 5 truth is 5\n",
      "---------------------\n",
      "I felt decidedly underwhelmed and overcharged.The chocolate cake was the only item that I consumed that lived up to the expectation or the quality implied by the pricing.  The soup was merely OK and the spaghetti completely underwhelming (bland, in a runny sauce) and a huge disappointment.  I also felt that I was missing a spoon to easier roll the spaghetti in, and I don't really see the point of being given a knife instead.  Finally the Malbec I ordered (by the glass) simply shouldn't be on the menu in a fine dining restaurant.To complete my negative experience, everything on the menu was 2 to 4 dollars more expensive than the already high prices posted on their \"sample menu\" online.   To be fair, the service was fine (although not extraordinary) but obviously couldn't compensate for the rest.\n",
      "Prediction is 2 truth is 1\n",
      "---------------------\n",
      "Failed to fully impress. Why?  Simple. I Roll in just before 8. They close at 9. Only one person working counter. Ok. Not busy so let it slide. Other person was in the back closing up. I bought a drink. Wanted sugar/fake sugar free. Saw iced tea dispensers. Bought a drink as a result. Turns out Both offerings were also out of service due to \"clean up\". The manager should reconsider having their staff close down which results in reduced offerings an hr before closing. There is no excuse. I really think the manager is not aware that their employees are doing this as it is a way to be able to leave on time so they don't end up staying late and not being paid. If he/she doesn't know this then here is their wakeup call. Never seen this before in my life. My salad,  good size and tasty. No complaints. Wish I could have enjoyed it with iced tea other than some god awful low calorie fountain lemonade. I hate when all I get is a generic \"sorry\". No, you're not.\n",
      "Prediction is 4 truth is 2\n",
      "---------------------\n",
      "Fantastic restaurant right on the water. It's right on the dock of the Lake Pleasant marina.I had the grilled chicken sandwich - it was delicious. And all the other food at the table looked awesome as well. Cool atmosphere, great bar. Definitely recommend this spot.\n",
      "Prediction is 5 truth is 5\n",
      "---------------------\n",
      "Baseball is a summer sport. It shouldn't be played in weather that is Africa hot. Ladies and Gentlemen, it was nearly Africa hot the other night on my first visit to Chase Field. Ok, I might be exaggerating. It was close to 95 degrees outside. As we walked up to the park, I was a little worried about spending the next few hours in the evening heat. I was told this park had a roof and air conditioning system, but this was an open roof game, so I thought I would have to suffer in the heat.As soon as we walked into the park, I was pleasantly surprised to find out that the air conditioning was blasting, and it was a balmy 75ish degrees. THANK YOU CHASE FIELD.We had a chance to walk around the park a little bit. The food options seemed interesting. A gluten-free stand. Panda Express (eww), a sushi stand BY Panda Express (double eww). CrackerJacks and a liter of water cost us nearly $10. Such is life at the ballpark I suppose.I've been to many ballparks: Fenway, Safeco, Jacobs, Angel Stadium, Dodger Stadium, Petco. Some of these parks are old, some are new. This one has it's own unique charm. Yes, it's newer, but it's nice.\n",
      "Prediction is 5 truth is 5\n",
      "---------------------\n",
      "One of our first drinking stops the Sunday we got into Vegas . . . I was still under the weather, but damn it, it was my vacation, and it was a rock joint, so a whiskey drink it was - bartender makes a fine Manhattan.  Word to the (un)wise - alcohol consumption doesn't really affect your cold one bit.  Just alternate Airborne and Emergen-C and you'll be fine.  My cold cleared up the next day because I attacked it with electrolytes and booze.  And blues.My one regret is that we missed the Prince show later that night, but we had many miles to go before we slept . . .\n",
      "Prediction is 4 truth is 4\n",
      "---------------------\n",
      "Not worth the time, much less the price of admission.  The VIP package doesn't add anything of value.It's a colorful game of waiting in line, dodging small children. The \"training simulations\" aren't calibrated, so you can't play them without encountering more glitches than hits, making the 40 minute wait that much more bitter in hindsight. The registration was broken, so we didn't get several of the features of the expensive package or any of the personalization that is supposed to be a feature of the whole Experience itself.The opening scene had to be restarted several times because the audio and video didn't sync up.The room transitions were poorly managed, with a bored looking person in a SHIELD t-shirt letting the music play a few loops before pressing the button to open the doors, making for a really engaging and immersive time, imagining you're in training for an actual government contract job, waiting for the instructor who is running behind due to a pile of paperwork and red tape.Don't waste your time, money, or sanity.\n",
      "Prediction is 1 truth is 1\n",
      "---------------------\n",
      "My boyfriend and I are from san diego and were in Peoria for the WBC and spring training. We flew in Friday morning and were staying right across from Cracker Barrel at the holiday inn. We were excited to see a cute place to eat so close to us. We both love breakfast so decided to check it out. I got the old timer breakfast which was delicious and the bf got a 2 egg and bacon plate with some toast which he really enjoyed. The hash brown casserole was amazing!!! (I consider myself a hash brown expert). We decided to come back again on Sunday morning before our we left and the food didn't disappoint. It was nice being able to go some where out of town and having a nice meal and good service to go along with it. Well definitely be back to the Cracker Barrel when were in Peoria next year.\n",
      "Prediction is 4 truth is 5\n",
      "---------------------\n",
      "Solid restaurant, I went here b/c it was close the Mesa Arts Center ([rave] that place is awesome! [/rave]) and was pretty pleased with the experience.  I'd heard good things about it on Chowhound, and so was expecting solid food.  They have a very New Mexican menu that seems to be heavy on the seafood special.  I got the blue crab enchilada and was quite pleased with the flavors and freshness of the sauce and rice, while the enchilada itself was literally stuffed with tender, moist crab.  I also had a delicious prickly pear margarita.  The atmosphere is kind of interesting: the decor is surprisingly stylish, with the specials written in chalk on several big boards on the wall, and an inviting, pleasing palette of colors throughout.  The open layout was kind of funky, and I was a bit disappointed there were no booths in the entire place.  You could tell they didn't have a huge remodeling budget when they opened, but they did pretty well with what they had.  The neighborhood isn't great, but I don't hold that against the place.  I do think the time is ripe for a West Mesa revival, a la 7th and Melrose or the Sunnyslope area.  You heard it here first...  (I really need to get a blog again)Overall, a good-to-great experience, and I'll definitely plan on going there again prior to MAC shows, but I doubt I would drive out to downtown Mesa to eat there again just for itself.  It's not quite a standout in a pretty crowded genre, but it's certainly a solid choice for those in the area.\n",
      "Prediction is 4 truth is 4\n",
      "---------------------\n",
      "Let me set the stage for you.It's a wednesday night.My brother's girlfriend's 21st birthday.Started off at saddle ranch, where 14 of her friends stood her up.Sucks, right?This poor girl is left with only her mother, her boyfriends, and her boyfriend's sister to celebrate this momentous occasion.Spirits were low.  A change of venue was needed.  She chose Blue Moose because she liked the name.It's a nice looking bar.  Laid back. Clean.  Hey! There's shuffle board! She likes shuffle board.But shuffle board is not enough to turn that frown upside down. No, only a miracle would save this night.  Enter Derek, AKA the most amaizing bartender and possibly greatest human being alive.He saved what started off as a disastours night.  He was elated when he found out it was her 21st.  He carefully planned what her first drink would be, asking her what flavors she liked.  he suggested fun shots, other great spots to hit up, turned the night around.  Really, without him, this would have been the absolute worst 21st birthday in the history of the world.We will be back, because not only is this a nice bar, but the service is truly unbeatable.\n",
      "Prediction is 4 truth is 5\n",
      "---------------------\n",
      "Nice environment. Free Wi-Fi. They have a nice patio area, a drive through and a nice layout inside. I will be back to work here again tomorrow.\n",
      "Prediction is 4 truth is 5\n",
      "---------------------\n",
      "Absolutely amazing. I wanted to see O by Cirque, but heard this is better (and cheaper, though not cheap). I decided  to go with Le Reve and used the code DSAVE30 over the phone to save $30. We got the regular seats, which were awesome! Not the cheapest or most expensive. The splash zone is pretty low and you really should get the level up for seats. The seats in the arena are very comfy and plush! We didn't partake in the concessions but there were a lot available. There is a nice store with Le Reve gear outside the entrance, and I bought a few things there.The show started and I was awestruck the ENTIRE time (unlike in LOVE by Cirque, which I also saw). These performers are TRUE ATHLETES and absolutely fabulous in their skills. The stage turns from stage to pool to pool and stage seamlessly. The music goes perfectly with the show. Some of the tricks they did were unbelievable. I won't give them away here, but they took my breath away.I got my fill of Vegas and don't care about coming back to see anything but shows... and this one would be #1 on my list to see again, despite the cost. I can't wait to come back so I can see it again. JUST GO. You won't regret it.\n",
      "Prediction is 5 truth is 5\n",
      "---------------------\n",
      "The font desk here is AMAZING. Diana, Olivia, Gloria, Irizarry and Mark. Yes, I know them all by name. We only go a few times a year, but they always remember us and always take great care of us.\n",
      "Prediction is 5 truth is 4\n",
      "---------------------\n",
      "Another trendy, over priced steak restaurant.  Have to admit though, My steak was pretty amazing.  Side dishes were average.  Drinks were WAY overpiced. Just be prepared when going you're paying for the ambience.\n",
      "Prediction is 2 truth is 3\n",
      "---------------------\n",
      "cool views up top, but food kinda sucks since it's not even considered fine dining. some food may look good, but don't taste very good, do not order seafood; think about it, why would you order seafood in a desert?\n",
      "Prediction is 2 truth is 3\n",
      "---------------------\n",
      "Food is good, very inexpensive...quick.  Service is fairly good.  Pollo Fundido is awesome, their taco's are good, great guacamole!  Love the churro's too!\n",
      "Prediction is 4 truth is 4\n",
      "---------------------\n",
      "You can see the nice renovations in the casino and the lobby but you can see how old the hotel really is when you step into their rickety elevators. Once the doors open you better jump in fast or else the doors will get you. We got the deluxe room, I was expecting a tube TV like everyone said they had in their rooms but lucky for us we actually got one with a flat screen TV. We also had a balcony, but the parking garage wasn't much to look at. We could hear a few fights outside our room (ghetto), a creeper or two, but for the hotel to be right in the middle of the strip, it was a deal. Room was ok, 2 queen beds and a small bathroom that doesn't lock. Warning, if you are trying to catch a cab at 8-11pm, walk to the next hotel over (Taxis come every 15 min.) According to most taxi drivers they rather not stop at the Quad because they have to drive around back and under the hotel. I would make reservations here again just because of location and price. Vegas will be Vegas.\n",
      "Prediction is 4 truth is 2\n",
      "---------------------\n",
      "Great place great people and great location.  Excited to see where they're headed!\n",
      "Prediction is 5 truth is 5\n",
      "---------------------\n",
      "Me and a few buds were wanting to grab a burger so opted to try Twin Peaks on an early afternoon. Plenty of TVs going with good sports action. Their hot wings with standard sauce were outstanding. I was surprised that their twin peaks burger rocked pretty good; i destroyed it and the fries. All said better than average. Next time I'll be hammering out more wings... Gordon Ramsay's BurGR & fries were better, but 40% more....\n",
      "Prediction is 3 truth is 4\n",
      "---------------------\n",
      "Pretty decent Indian at a good price.  Garlic naan was very good as was the Chicken curry and Tandoori chicken.  Desserts were pretty decent as were the saag paneer, malai kofta and beef vindaloo.  Can't beat the $8 weekday lunch buffet price which includes masala tea.\n",
      "Prediction is 3 truth is 4\n",
      "---------------------\n",
      "Ive eaten here a few times for lunch when i was stationed nearby. It's typical Americanized Thai food, complete with the tasty fried rice, hot and sour soup and spring rolls that you'd be just as likely to find in a Chinese restaurant. The actual Thai food isn't bad though, but like I said is far from the real deal. The portions are small but appropriate for lunch. For about 6 bucks you can get a roll, soup, salad, rice and entrée. Its a pretty good deal and is far preferable to eating the same old subway or pandas express. Foodies don't bother but casual lunch hour folks might be interested--it's a hell of a lot better than going to freakin' Subway again. If you aren't in the nearby area however, don't bother making the trip for this unremarkable Thai food.\n",
      "Prediction is 3 truth is 3\n",
      "---------------------\n",
      "Best Indian food and workers are the nicest\n",
      "Prediction is 5 truth is 5\n",
      "---------------------\n",
      "I am very happy this has became apart of Harris gaming! They are the only ones that have keno at the bar (heart bar). I love this bar. Sandy and Michael are the best as far as bartenders go! When ever i am at the strip i alway go into see them. In the day time it is a slow pace which i love. I am not about the clubbing type scene. At night full of young people drinking and it turns loud.\n",
      "Prediction is 4 truth is 4\n",
      "---------------------\n",
      "this used to be our go to place, as its across from the law school and has amazing cappucino- even though for some reaason they dont toast the bagels but seemingly put them in a microwave 8 minutes too long.we will NEVER NEVER go there again due to the staff- over the months we had noticed slight attitude from the hippy chic staff- not all, but some, but one day, three friends and i walked in, in great moods, recounting the tales of the prior night, laughing. the girl working there rolled her eyes and then imitated us laughing in loud jest to her co worker about 7 inches from us.  way to kill our mood twat.we have since BOYCOTTED black medicine and encouraged everyone we know to as well- to be truly happy and then have someone crap on you. no thanks- id rather have the slightly less good cafe nero coffee around the corner or the no frills cheap aroma coffee kitty corner then go into an overpriced, uncomortable wooden stooled, too few seats, hot ass bagels with rude arsehole staff\n",
      "Prediction is 1 truth is 1\n",
      "---------------------\n",
      "I really, really wanted to like this place. I've only had pho one other time, and was looking forward to trying it again.I went on a Friday night when it wasn't terribly busy. My main complaint was the service. First of all, our server kept coming back to our table, seeming like he was getting increasingly irritated that we were taking our time to order. I ordered vegetarian egg rolls as an appetizer. I'm not sure what happened, if the server just wasn't listening to me-but he said \"Buddha rolls\" which I assumed was some official name for said egg rolls, so I said yes.  Apparently I had just ordered spring rolls without even realizing. Sure, that was a miss communication-however it could have easily been resolved without telling me that I didn't order egg rolls (which I had). I hate to play the customer is always right card, but in this case-I have to. I had to practically argue my way to getting my order corrected. I felt like my server was treating me as if I was just lying to be difficult. It's really sad because our food was really good. I enjoyed my veggie pho and eggrolls. My boyfriend, who came with, enjoyed his meal as well.When the bill came, it looked as though our server had just charged us for the spring rolls anyway in addition to the veggie rolls. My temper had already flared enough at that point so I had my boyfriend handle it. Apparently he was \"going to fix our bill\"..well if you were going to fix it, why didn't you do that before setting the check on the table?!?!?! I don't predict a return visit, not at least in the near future.\n",
      "Prediction is 1 truth is 2\n",
      "---------------------\n",
      "Tolle Torten und Kuchen, für Leute die es sahnig und mächtig mögen als auch fruchtig und leichter. Familienbetrieb, eine Karlsruher Institution.\n",
      "Prediction is 5 truth is 5\n",
      "---------------------\n",
      "Woodman's = Dirty, bad produce... oh, and now no mental health coverage for employeesTrader Joe's = Limited selections & everything prepackaged, frozen. No fresh selection for meats, etc.Willy St. = Membership? No thanks.Jenifer St. Market = Limited selectionWhole Foods = Way too expensive, and not incredibly better by any means.Copps comes close, but haven't been able to find several items that I have been able to find at Hy-VeeHy-Vee has everything and then some. The staff has always been extremely helpful. I have found things there that I have been unable to find elsewhere in Madison. The place is clean, accessible, and I'm willing to pay a bit more for the convenience of being able to get everything I need in one stop. That's something that can't be said for some of the places I've mentioned above. Totally forgot to mention that it's 24 hours...Obeseiogenic society? Go home dude...\n",
      "Prediction is 4 truth is 5\n",
      "---------------------\n",
      "OMG...the BBQ sauce is sweet and spicy at the same time but definitely ask for extra. The cup they give you just isn't enough. The banana pudding is homemade and to die for. Go hungry and expect to leave satisfied.\n",
      "Prediction is 5 truth is 5\n",
      "---------------------\n",
      "This is my default for when the desire for a tasty frozen treat strikes.  Join the text club as it'll alert you to 'buy one get one free' deals, so you can save money and get tasty frozen treats.  I get one for that day and then sit the other one in my freezer.  The service here is always pleasant.  I've seen them accommodate a patron that sampled every yogurt they had, and without so much as an eye-roll from the employees.  That's impressive.The yogurt and the toppings options are fairly extensive, though I wish they would keep the raspberry yogurt around all the time.  My suggestion is to get the 'just chocolate' and 'raspberry' yogurts with sliced almonds - mmm, it's like a frozen chocolate raspberry truffle with crunchy almond coating.\n",
      "Prediction is 4 truth is 4\n",
      "---------------------\n",
      "Eek! Methinks not. Is the perfect way to describe how I feel about this place. I tried their pepperoni pizza just a simple large, pretty basic right? Well I wanted wings to eat with my so I though amazing pizza, until while I am ordering, they tell me they dont have wings!!!!!!! what kind of pizza parlor is it without wings? I also did not like the taste of the sweet tomato sauce, it was too fuffi for me, I did not enjoy the slices after the second one, it kept getting sweeter and sweeter for me. I will for now leave this place alone and not come back, maybe next year I will try them again, but in the mean time I will stick to Rhino D's\n",
      "Prediction is 2 truth is 1\n",
      "---------------------\n",
      "Simply put, this is one of the best \"date places\" in Champaign.  The food is amazing and priced very well.  The bar is a blast and the staff is very friendly.\n",
      "Prediction is 5 truth is 4\n",
      "---------------------\n",
      "The pizza is made to order and is quite tasty and filling.  My fav is the chicken pesto that always hits the spot.  The salads, well, when you pick your own ingredients, there is nothing to complain about!  My daughter said the BLT was the best she ever had and she eats a lot of them.  Crisp service is fast and the staff members are always attentive.  If it is an evening meal, you can add wine or beer.  Weekends offers white or red Sangria, which we enjoyed tremendously.  Crisp is a great spot for a quick bite to eat and there's usually minimal wait time.  I say, when  you're hungry, go eat!\n",
      "Prediction is 4 truth is 5\n",
      "---------------------\n",
      "I'm updating my review of Feeney's, as when I read the review of my initial visit, I was sort of shocked. It is now one of my favorite restaurants in Phoenix.First, make sure you check out their website for the nightly specials. Wednesday night is particularly great, with your choice of 5 freshly prepared entrees, including potato or vegetable, AND soup or salad for $10. Nice.Second, when you check in on yelp, look for the instant 10% off coupon. Immediately. For that use. Not a \"10% off after 4 visits\" or a one time use. Every time.Nice.Third, I am always a bit taken aback by the sincere friendliness of the staff, especially the owner. She always remembers us, even when we haven't been for a few months and we are always greeted with a big hug and a hearty \"Hello! Welcome back!\". Nice.Fourth, the salad bar that I was unimpressed with in my first review impresses me now not for its variety, but for its consistently fresh and always well stocked bounty. Not only leafy salads on the salad bar, but some slaws, a few pasta salad choices, and lots of very fresh veggies. And I'm a sucker for the carrots that have been shaved into curls and the cool fresh ground pepper mill. While you are getting your salad, the chef(s) will routinely visit with you, as the kitchen is right behind the salad bar. Nice.On my visit last night, I started with the onion rings as an appetizer. They were good. No flavorgasm like the ones at Durant's, but then how could they compete with those? I had the $10 special Salisbury steak with mashed potatoes and salad. Salisbury steak has been much maligned by the Swanson TV Dinners of old. When done right, and Feeney's does it right, it is a flavorful piece of ground prime steak. Here's a hint, if they ask you how you want your Salisbury steak cooked, you pretty much know it is going to be better than the chopped steak meal you are going to get at other restaurants. The mushroom gravy is an added treat for both the steak and the mashed potatoes. Another at the table subbed the fresh veggies for the potato, and they were a nice assortment of zucchini, squash, and broccoli. Not a limp, greasy garnish like you get some places if you opt out of the potato portion. Nice.Another hug upon our leaving. Goodbyes from the waiter and the bar staff. You can easily see why most of people you see in Feeney's are regulars. Count me as one now.\n",
      "Prediction is 4 truth is 5\n",
      "---------------------\n",
      "I had torta ahogada and two taco carnitas! The carnitas are juicy and mouthwatering!  My torta was delicious.  Washed it all down with a glass of horchata.  Best Mexican food in Vegas!\n",
      "Prediction is 5 truth is 5\n",
      "---------------------\n",
      "The first few times I went, I had the 6 seed bread and some pastries. Wow, absolutely fresh, delicious, and warm out of the oven! Staff friendly and helpful too. Then I got a lighter rye bread that they called \"dark rye\". I'm sure they know, but not that tasty to me anyway. So...next time I went for the 6 seed again. But, they changed it up! Mostly sunflower seeds, and not much of the other 5. Not my taste at all. They said they don't carry caraway seeded rye, because customers don't like it. Anyway, the goods are freshly baked , store is clean, and staff courteous. A tad pricey, but it is freshly baked, so prolly worth it if you like the taste. Personally, I don't eat pastry (it's for myguests or family), and I don't seek out bread, unless it's exceptional. My first visits I thought the bread was exceptional, then a decline in taste IMHO. Don't let my review deter you. Try it yourself. You may love it.\n",
      "Prediction is 5 truth is 3\n",
      "---------------------\n",
      "OMG never again.The service here is friendly and quick. I also noticed that they don't write any orders down at all.They have a wide selection to choose from. They give so much food here, it's ridiculous. You are bound to not finish everything in one seating and it's a best to share, unless your a beast like that.After a night of drinking and being hung over... and after eating here, I couldn't feel any worse. It felt like I was going to have a heart attack haha.\n",
      "Prediction is 3 truth is 3\n",
      "---------------------\n",
      "They were suppose to open up at 7:30, went there early to try to get my oil change, Manager was having car trouble so on of the employees came over and said they wouldn't be open until around 8:15.  Called back around 8:10 and asked if they had time for an oil change, they said we are booked for until noon but you can come drop in but may take 2 hours for an oil change.  They give out this 17.99 coupon for oil change but then they either have you waiting for hours and then try to upsell you.  I can't stand midas.\n",
      "Prediction is 1 truth is 1\n",
      "---------------------\n",
      "For college girls on a budget, the Sahara is great. I think we stayed in a deluxe room that had two queen beds and a balcony overlooking the pool. The balcony was the best part; I love balconies. The beds and pillows sucked though. In my eyes, if you're wasted face and you still can't pass out on a bed, then you know there's something wrong. That's exactly what happened to me all weekend. The check in was HORRENDOUS. Check in began at 3 p.m. and we got there at 2. We decided to go in anyway and play a couple slots while we waited. Well, we changed our minds immediately when we saw that there was already a check in line that went across the entire lobby. We skipped the games and waited in line for over an hour. Besides that, the bellhops there were soooo nice! When we arrived and left, they wheeled out our many bags all the way to the parking structure and loaded them into my car for us. Sahara is getting a facelift from SBE entertainment (you know, of LAX nightclub), so hopefully, we'll see something more modern in the next few years.\n",
      "Prediction is 4 truth is 3\n",
      "---------------------\n",
      "Jag och min sambo åkte på Vision Holidays resa till Grand Canyon. Eftersom deras hemsida vid bokningstillfället var fruktansvärt dåligt uppbyggd förstod vi inte att det handlade om resor med flygplan och inte med helikopter som vi egentligen ville åka. När personalen ringde på morgonen för att bekräfta att vi kommer dyka upp fick vi en chock när de nämnde att vi skulle åka med ett flygplan. Det kan till en stor del varit vårat fel och slarv, men de borde haft tydligare information om att det handlar om just flygplan. Tyvärr såg vi inte Grand Canyon från flygplanet och den \"guidade\" bussredan från Grand Canyon Village var ett skämt. Spendera era pengar på en helikoptertur istället, vilket vi från början hade tänkt göra.\n",
      "Prediction is 4 truth is 1\n",
      "---------------------\n",
      "I LOVE the tropicana. This was our first time staying at the Tropicana and I was really curious to see all the new renovation. My boyfriend attempted the twenty-dollar trick when we checked in and it worked! They bumped us up to the paradise suite, which was amaaazzinggg. The casino is AWESOME. The dealers are really nice. Some of them teach you how to play the game if you don't know how. I TOTALLY would come back and stay at the tropicana. Even if you're at the end of the strip, everything is still in walking distance.\n",
      "Prediction is 5 truth is 4\n",
      "---------------------\n",
      "Came here at the recommendation of my friend Brian G. from San Diego. This place is essentially a modern university dormatory. It's clean, well kept, pillows, towel, blankets, all the basics you would anticipate. (no toiletries. oops!)There's an outdoor patio and an indoor lounge and bar with tv, billiard/pool table, plenty of chairs to just sit around. They serve food here too. Free Wifi, internet is £1 for 30min. can't print though, there's an internet cafe next door that lets u print. Good Location!CON: If you're a light sleeper then you'll want to hear this: Similar to a college dorm, this place is noisy! People chatting it up in the outdoor terrace till really late, paper thin walls with kids opening and closing doors while talking and running, hard to sleep early or sleep late. (minus 1 star)\n",
      "Prediction is 1 truth is 3\n",
      "---------------------\n",
      "If you are looking for a resort off The Strip then look  no further. The property itself is a masterpiece from the opulent lobby to the VIP services which my friend and I were afforded. I had stayed in a two room suite in my prior trip to Vegas and could not stop talking about it when I was there last year. This time around, I was given the chance to party, on the 4th no less, at a hosted penthouse suite. Apparently the hotel uses this suite to comp high rollers at an expense of $15K/night to the property. Check out the pictures for more...\n",
      "Prediction is 4 truth is 5\n",
      "---------------------\n",
      "Very much a sports bar. From my vantage point, there were 17 screens I could see that were broadcasting a range of hockey and baseball. We stopped in after dinner, so we didn't order any food. The beer selection was good, the service prompt. Nothing really stood out, hence the three-star rating. It was also basically across the street from our hotel.The good: fast service.The bad: too much stimulus from all the tvs ever.\n",
      "Prediction is 3 truth is 3\n",
      "---------------------\n",
      "Bouchon was my first breakfast in Vegas. I wish I could say that it lived up to all my expectations, as the first Thomas Keller restaurant I have visited, but unfortunately I was a bit under whelmed.  I arrived toward the end of the breakfast hours (because I got lost running around the Venetian for an hour) so the restaurant was fairly empty. The service was decent and the waiter was personable. It was the food I was slightly disappointed in. I ordered the Croque Madame and the person accompanying me had the sourdough waffles. Both items arrived at the table after about a 20 min wait luke warm. Then there was the quality of the food, which I would give a 6.5 out of 10. Hmm...perhaps it would have been better warmer... The pommes frites were decent though. For the price I do not feel this meal was worth the $60+ spent on it and it will not go down as one of my more memorable meals, which I was hoping it would be. Perhaps my expectations were too high. I may return again one day, after I have made the rounds of all the other restaurants Vegas has to offer.\n",
      "Prediction is 3 truth is 3\n",
      "---------------------\n",
      "The wife and I love to go to this place from time to time. The decor is modern and clean and the food is great. I must admit that we have only ordered a few things off of the menu but they are so good we are scared to venture to much on the menu. The fried chicken and the lamb chops are the gems of this menu. I also had one of their infused vodka martinis the last time we went and it was great. We hear that the brunch is equally amazing. Love this place.\n",
      "Prediction is 5 truth is 4\n",
      "---------------------\n",
      "Great location, as it's tucked away between Charleston and Desert Foothills.  Great for the West Summerlin crowd.   Staff is very friendly.I'll have to say that the only complaint that I have against this place, and thus the one star from perfect is that the lighting at night is not the best.   Always had to be wary what was on all sides of the vehicle due to not having the usual type of flood lights in a drive-thru ATM situation.   The branch off of Canyon Pointe is lit much better, as a comparison.\n",
      "Prediction is 3 truth is 4\n",
      "---------------------\n",
      "I've had the Falafel sandwich from here a couple times and I'm certainly a fan. It's a bit of a drive from my house but the food is worth the wait. Service is super helpful and friendly but once you put in an order it usually takes a while for the food to come out... I think that's a sign that they cook it fresh. When you do get your food it tastes like the the cooks took their time with it.Also the first time I ate here I ordered my food to go and I'm not sure if they were running low on tahini sauce or just rushed it or something but it was not that tasty. Only when I returned at a later date and ordered my food to dine-in did I get the real experience of a delicious well prepared Falafel sandwich. The french fries here are the best I've had at any kebab/gyro joint so I would say whatever you order make sure you get a side of tasty potatoes. I've had the hummus as well and it's got solid flavor so I would recommend that as well. Probably the best part about this restaurant is the business hours on Sunday. It's impossible to find falafel on a Sunday so for that Chicago Gyros can count on my return business.\n",
      "Prediction is 4 truth is 4\n",
      "---------------------\n",
      "PROS: The costumes, the characters, the lights, the acrobatics, the huge 1 million gallon pool, the enticement!! OMG this show is a MUST SEE! I'm seriously in love. I was completely absorbed in every moment of the 1 hour 40 minute show!!My boyfriend bought us tickets to celebrate my birthday here, and I have been and still am extremely happy from the experience. The 1800 seat gorgeous theater was completely filled! Our seats were almost as perfect as I could have wanted. It wasn't up too close where you'd have to look up, hurt your neck, and get your nice cocktail dress or suit drizzled by the water. And it wasn't up too high where you can't see squash. Our seat number was Section 102 Row N, which is in the middle of the auditorium. Seriously, spend the slight extra money for good seats because you'll probably enjoy it so much that you'd want to go back. (Then... you might as well get the cheaper ones).As for the show, I won't elaborate too much because there are so many reviews and synopses online about the story. Some people I talked to didn't seem to catch the story, and others did. But overall, it was magnificent.Just to announce it again: Highly, highly recommended!!! I was so in love with the show that I bought the \"O\" cushion frame/folder with our pictures inside for $40.Also, to sum it up... Few hours after the show, we stayed at Bellagio to play for a bit, and we ended up playing craps with Guy Laliberté... Umm WOW? (pictures posted for your entertainment)CONS: None!:)\n",
      "Prediction is 5 truth is 5\n",
      "---------------------\n",
      "The food was so so. Very little meat on the sandwich. I was a little disgusted that the girl taking my order was standing there picking her face, especially when she handed me the food without washing her hands. The other staff members were all in the back eating and not once did I see anyone wash their hands. My wife enjoyed her chicken salad sandwich and there is a good choice of bread.\n",
      "Prediction is 3 truth is 3\n",
      "---------------------\n",
      "I went here with high expectations, which were quickly and rudely dashed. The burgers are covered with slop and it's almost impossible to find a side dish that isn't fried. Don't go here looking for a healthy meal. You'll get your entire week's fat intake in one sitting.  It also tends to be crowded and noisy, like a sports bar.  The menu seems limited to sauce-slathered crap, with a side of something greasy, with a dippy-cup full of more melted slop.  For supposedly being a high-end burger joint, the food is remarkably juvenile.  I picture their kitchen as having two tools: the broiler, and the deep fryer.  Next to a big pallet of fluffy buns.  And tubs of mayo and ranch dressing.\n",
      "Prediction is 4 truth is 2\n",
      "---------------------\n",
      "As a big burger lover, when I visit a town I always make sure to visit a restaurant known for good burgers. Based on the reviews here and elsewhere on the internet, I decided to check out Winghart's. I am glad that I did because it was a very delicious burger.Wingharts is a pretty small place in Market Square, but it does have some outside seating which is helpful if you go at a popular time. The menu is small, basically just burgers and pizza. But since they do these so well they don't really need to add anything to the menu. I went with a burger with bacon and cheese on it and it was outstanding. Sometimes when you order a burger with bacon the bacon can overpower the burger, but not so here. The bacon was a perfect compliment to the very tasty patty.Only negative aspect of my experience is the waitress, while very nice, wasn't the most attentive waitress. But it wasn't bad enough that I would not come back or recommend it to others.\n",
      "Prediction is 3 truth is 4\n",
      "---------------------\n",
      "I took our family to the Chuck Jones Experience the week of July 5th. It was so disappointing.    The website information makes the exhibit sound very interactive.  It's not.  \"children of all ages can explore their artistry and creativity through daily drawing and art project classes led by teaching artists in the Chuck Jones Center for Creativity classroom.\"There is nothing here that mentions classes/teaching artists are not available at all times.   My kids have better tools to draw with at home.   \"Visitors first have an opportunity to learn more about Chuck Jones through a short film presented in a cleverly designed \"movie theater.\"There was no \"film\", just several character cuts from cartoons and a couple of quotes.   There wasn't enough of an episode to really get a good laugh or understand the humor.\"From there, the exhibit leads them through Animation Alley into art exhibits not only from the permanent collection of the Chuck Jones Center for Creativity, but also from other animation studios. \"Lots of great art work, but no information about any of them.   There was a photo of a  girl on horseback, his daughter?  It would have been nice to know.\"In the Acme Workshop, located in the center of the exhibit, visitors have the opportunity to work the Foley station where they can contribute sound effects to a film, do voice-over work and learn to ink and paint real animation cels.\"Foley station worked, but their was no \"ink and paint real animation cels.\"\"Through exhibitions of rare, original art from the Archive of the Chuck Jones Center for Creativity, museum-goers will learn about Jones' early childhood and how his talents (and those of his artist-siblings) were nurtured by his parents and how that way of encouraging artistic growth influenced his own methods of creating such world-famous.....\"There was nothing about his early life or anything about parents or siblings that I saw.There are so many great, personal mementos and so many possibilities. I loved the rules for the Road Runner/Coyote.     I wished I'd looked for cartoons for my children to watch  (Witch Hazel & Monster are two of my favorites) and maybe bought t-shirts.  As it was, I wouldn't consider spending anymore money in the shop.Chuck Jones deserves much better than this.\n",
      "Prediction is 2 truth is 1\n",
      "---------------------\n",
      "I really enjoy this theater and its location. I really enjoy coming here for a matinee because it is only $6.75 which is super cheap compared to other places that can add up to at least $12. There is also a discount if you show your student id. They usually have all the movies I want to see and it is never crazy crowded so you will most likely get a seat that you want. This is without a doubt my go to movie theater.\n",
      "Prediction is 4 truth is 4\n",
      "---------------------\n",
      "Great time today with friends for breakfast at the Orange Table.  Omlettes, French Toast, Bacon, Egg Sandwich, Scrambled Eggs, you name it, we liked it all!  We sat out on the patio because we all brought dogs.  They greeted us with dog water bowls and made the dogs feel very welcome on their nice shady patio.  We will definitely be back.\n",
      "Prediction is 5 truth is 5\n",
      "---------------------\n",
      "Pleasantly Surprised.... I am editing my original review that you can read below.  I was contacted by the manager of this location today.  I must say I'm very surprised.  Not only did he reach out to me on his own to listen to my concern, he was able to correct the problem with the prepaid gas issue.  He also valued me as a Customer and wanted to win my business back.  He offered me a credit for my next visit to Advantage.  I was never going to use them again, but after this call and the concern for a Customer, I will let them prove me wrong and hopefully change my next experience with them.  Do not use this place,  besides hidden fees and cars they say you're going to receive does not match what you get this place straight up lies to you.  The person at the desk told me to do the prepaid gas.  I said no because I will not use the entire tank.  She then told me it's okay because they prorate and only charge you for what you use.  Of course upon return the person that received car said prorating is not something they do.  Once again DO NOT USE THIS COMPANY!!!\n",
      "Prediction is 1 truth is 4\n",
      "---------------------\n",
      "I attended a four-day conference here and thought it was a very nice facility. I generally don't like convention centers because they feel so sterile, but this one is not that bad. It is easy to navigate, which is really important when getting around a huge conference. The meeting rooms are well set up with very good AV systems and lighting options. There are lots of Starbucks everywhere, decent food options and very friendly staff. It is freezing cold everywhere, so bring a jacket.\n",
      "Prediction is 4 truth is 4\n",
      "---------------------\n",
      "I've been hearing a lot about this place but since my wife opted for a vegan food regimen, hitting up a place with counters of steaks and a menu focus on meat is going to make for a difficult date night. So when I was in the area on my own, I popped in for lunch.Nice menu with, of course, a lot of meats. I chose the store-made pastrami sandwich with a side of mac & cheese. Grilled on rye bread, the meat was tasty and the bread was crispy. Maybe a little greasy, but that's to be expected.The mac & cheese was excellent. I'm not sure what cheese they put in there, but it was creamy and tangy with a little bit of bite to it. Also a little oily at the bottom and that's also to be expected.Service was good, the speed of my meal was good and the price was acceptable.Looking forward to returning with a meat eater.\n",
      "Prediction is 4 truth is 4\n"
     ]
    }
   ],
   "source": [
    "for i in range(0,100):\n",
    "    print(\"---------------------\")\n",
    "    print(text_test[i])\n",
    "    print(\"Prediction is \"+str(np.argmax(y_pred[i]))+\" truth is \"+str(np.argmax(y_test[i])))"
   ]
  },
  {
   "cell_type": "code",
   "execution_count": 35,
   "metadata": {},
   "outputs": [
    {
     "name": "stdout",
     "output_type": "stream",
     "text": [
      "313853/313853 [==============================] - 418s 1ms/step\n"
     ]
    }
   ],
   "source": [
    "y_pred=model.predict(X_test, verbose=1)  "
   ]
  },
  {
   "cell_type": "code",
   "execution_count": 36,
   "metadata": {},
   "outputs": [],
   "source": [
    "dist=0\n",
    "for i in range(len(y_pred)):\n",
    "    dist+=np.abs(np.argmax(y_test[i])-np.argmax(y_pred[i]))\n",
    "    \n",
    "dist=dist/len(y_pred)\n"
   ]
  },
  {
   "cell_type": "code",
   "execution_count": 37,
   "metadata": {},
   "outputs": [
    {
     "name": "stdout",
     "output_type": "stream",
     "text": [
      "In average, we are at a distance 0.4899809783561094 of the groud truth, in stars\n"
     ]
    }
   ],
   "source": [
    "print(\"In average, we are at a distance \"+str(dist)+\" of the groud truth, in stars\")"
   ]
  },
  {
   "cell_type": "code",
   "execution_count": null,
   "metadata": {},
   "outputs": [],
   "source": []
  }
 ],
 "metadata": {
  "kernelspec": {
   "display_name": "Environment (conda_tensorflow_p36)",
   "language": "python",
   "name": "conda_tensorflow_p36"
  },
  "language_info": {
   "codemirror_mode": {
    "name": "ipython",
    "version": 3
   },
   "file_extension": ".py",
   "mimetype": "text/x-python",
   "name": "python",
   "nbconvert_exporter": "python",
   "pygments_lexer": "ipython3",
   "version": "3.6.4"
  }
 },
 "nbformat": 4,
 "nbformat_minor": 2
}
