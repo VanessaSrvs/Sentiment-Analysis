{
 "cells": [
  {
   "cell_type": "code",
   "execution_count": 1,
   "metadata": {
    "collapsed": true
   },
   "outputs": [],
   "source": [
    "import pandas as pd\n",
    "import numpy as np\n",
    "import pickle as pk\n",
    "\n",
    "################################################# To install nltk #####################################################\n",
    "\n",
    "# Si t'as anaconda: conda install nltk (sur le terminal)\n",
    "# Sinon: pip install nltk (sur le terminal)\n",
    "# nltk.download() (sur python)\n",
    "\n",
    "#######################################################################################################################\n",
    "\n",
    "from nltk.stem import PorterStemmer\n",
    "from nltk.tokenize import word_tokenize\n",
    "\n",
    "review = pd.read_pickle('yelp_academic_dataset_review.pickle')\n",
    "\n",
    "comun=open('comunWords.txt','r')\n",
    "tab = []\n",
    "for w in comun.readlines():\n",
    "    tab.append(w[:-1])"
   ]
  },
  {
   "cell_type": "code",
   "execution_count": 2,
   "metadata": {
    "collapsed": true
   },
   "outputs": [],
   "source": [
    "class Comment(object):\n",
    "    text = []\n",
    "    rate = 2\n",
    "    def __init__(self, text, rate):\n",
    "        self.text = text\n",
    "        self.rate = rate\n",
    "    def __str__(self):\n",
    "        print(\"Rate: \" + str(self.rate) + \"\\nText:\")\n",
    "        print(self.text)\n",
    "        return ''"
   ]
  },
  {
   "cell_type": "code",
   "execution_count": 24,
   "metadata": {},
   "outputs": [
    {
     "data": {
      "text/html": [
       "<div>\n",
       "<style>\n",
       "    .dataframe thead tr:only-child th {\n",
       "        text-align: right;\n",
       "    }\n",
       "\n",
       "    .dataframe thead th {\n",
       "        text-align: left;\n",
       "    }\n",
       "\n",
       "    .dataframe tbody tr th {\n",
       "        vertical-align: top;\n",
       "    }\n",
       "</style>\n",
       "<table border=\"1\" class=\"dataframe\">\n",
       "  <thead>\n",
       "    <tr style=\"text-align: right;\">\n",
       "      <th></th>\n",
       "      <th>business_id</th>\n",
       "      <th>date</th>\n",
       "      <th>review_id</th>\n",
       "      <th>stars</th>\n",
       "      <th>text</th>\n",
       "      <th>type</th>\n",
       "      <th>user_id</th>\n",
       "      <th>votes_cool</th>\n",
       "      <th>votes_funny</th>\n",
       "      <th>votes_useful</th>\n",
       "    </tr>\n",
       "  </thead>\n",
       "  <tbody>\n",
       "    <tr>\n",
       "      <th>0</th>\n",
       "      <td>vcNAWiLM4dR7D2nwwJ7nCA</td>\n",
       "      <td>2007-05-17</td>\n",
       "      <td>15SdjuK7DmYqUAj6rjGowg</td>\n",
       "      <td>5</td>\n",
       "      <td>dr. goldberg offers everything i look for in a...</td>\n",
       "      <td>review</td>\n",
       "      <td>Xqd0DzHaiyRqVH3WRG7hzg</td>\n",
       "      <td>1</td>\n",
       "      <td>0</td>\n",
       "      <td>2</td>\n",
       "    </tr>\n",
       "    <tr>\n",
       "      <th>1</th>\n",
       "      <td>vcNAWiLM4dR7D2nwwJ7nCA</td>\n",
       "      <td>2010-03-22</td>\n",
       "      <td>RF6UnRTtG7tWMcrO2GEoAg</td>\n",
       "      <td>2</td>\n",
       "      <td>Unfortunately, the frustration of being Dr. Go...</td>\n",
       "      <td>review</td>\n",
       "      <td>H1kH6QZV7Le4zqTRNxoZow</td>\n",
       "      <td>0</td>\n",
       "      <td>0</td>\n",
       "      <td>2</td>\n",
       "    </tr>\n",
       "    <tr>\n",
       "      <th>2</th>\n",
       "      <td>vcNAWiLM4dR7D2nwwJ7nCA</td>\n",
       "      <td>2012-02-14</td>\n",
       "      <td>-TsVN230RCkLYKBeLsuz7A</td>\n",
       "      <td>4</td>\n",
       "      <td>Dr. Goldberg has been my doctor for years and ...</td>\n",
       "      <td>review</td>\n",
       "      <td>zvJCcrpm2yOZrxKffwGQLA</td>\n",
       "      <td>1</td>\n",
       "      <td>0</td>\n",
       "      <td>1</td>\n",
       "    </tr>\n",
       "    <tr>\n",
       "      <th>3</th>\n",
       "      <td>vcNAWiLM4dR7D2nwwJ7nCA</td>\n",
       "      <td>2012-03-02</td>\n",
       "      <td>dNocEAyUucjT371NNND41Q</td>\n",
       "      <td>4</td>\n",
       "      <td>Been going to Dr. Goldberg for over 10 years. ...</td>\n",
       "      <td>review</td>\n",
       "      <td>KBLW4wJA_fwoWmMhiHRVOA</td>\n",
       "      <td>0</td>\n",
       "      <td>0</td>\n",
       "      <td>0</td>\n",
       "    </tr>\n",
       "    <tr>\n",
       "      <th>4</th>\n",
       "      <td>vcNAWiLM4dR7D2nwwJ7nCA</td>\n",
       "      <td>2012-05-15</td>\n",
       "      <td>ebcN2aqmNUuYNoyvQErgnA</td>\n",
       "      <td>4</td>\n",
       "      <td>Got a letter in the mail last week that said D...</td>\n",
       "      <td>review</td>\n",
       "      <td>zvJCcrpm2yOZrxKffwGQLA</td>\n",
       "      <td>1</td>\n",
       "      <td>0</td>\n",
       "      <td>2</td>\n",
       "    </tr>\n",
       "  </tbody>\n",
       "</table>\n",
       "</div>"
      ],
      "text/plain": [
       "              business_id        date               review_id  stars  \\\n",
       "0  vcNAWiLM4dR7D2nwwJ7nCA  2007-05-17  15SdjuK7DmYqUAj6rjGowg      5   \n",
       "1  vcNAWiLM4dR7D2nwwJ7nCA  2010-03-22  RF6UnRTtG7tWMcrO2GEoAg      2   \n",
       "2  vcNAWiLM4dR7D2nwwJ7nCA  2012-02-14  -TsVN230RCkLYKBeLsuz7A      4   \n",
       "3  vcNAWiLM4dR7D2nwwJ7nCA  2012-03-02  dNocEAyUucjT371NNND41Q      4   \n",
       "4  vcNAWiLM4dR7D2nwwJ7nCA  2012-05-15  ebcN2aqmNUuYNoyvQErgnA      4   \n",
       "\n",
       "                                                text    type  \\\n",
       "0  dr. goldberg offers everything i look for in a...  review   \n",
       "1  Unfortunately, the frustration of being Dr. Go...  review   \n",
       "2  Dr. Goldberg has been my doctor for years and ...  review   \n",
       "3  Been going to Dr. Goldberg for over 10 years. ...  review   \n",
       "4  Got a letter in the mail last week that said D...  review   \n",
       "\n",
       "                  user_id  votes_cool  votes_funny  votes_useful  \n",
       "0  Xqd0DzHaiyRqVH3WRG7hzg           1            0             2  \n",
       "1  H1kH6QZV7Le4zqTRNxoZow           0            0             2  \n",
       "2  zvJCcrpm2yOZrxKffwGQLA           1            0             1  \n",
       "3  KBLW4wJA_fwoWmMhiHRVOA           0            0             0  \n",
       "4  zvJCcrpm2yOZrxKffwGQLA           1            0             2  "
      ]
     },
     "execution_count": 24,
     "metadata": {},
     "output_type": "execute_result"
    }
   ],
   "source": [
    "review.head()"
   ]
  },
  {
   "cell_type": "code",
   "execution_count": 4,
   "metadata": {},
   "outputs": [],
   "source": [
    "ps=PorterStemmer()\n",
    "reviews=[]\n",
    "n=-1\n",
    "# it takes more than 25 mins to execute this program => Cluster ?\n",
    "for comment in review.text[:n]:\n",
    "    words=word_tokenize(comment)\n",
    "    wds=[]\n",
    "    for w in words:\n",
    "        wstmed=ps.stem(w)\n",
    "        if not(wstmed in tab):\n",
    "            wds.append(wstmed)\n",
    "    reviews.append(wds)"
   ]
  },
  {
   "cell_type": "code",
   "execution_count": 5,
   "metadata": {
    "collapsed": true
   },
   "outputs": [],
   "source": [
    "Dataset=[]\n",
    "for i in range(len(reviews)):\n",
    "    Dataset.append(Comment(reviews[i],review.stars[i]))"
   ]
  },
  {
   "cell_type": "code",
   "execution_count": 22,
   "metadata": {},
   "outputs": [
    {
     "data": {
      "text/plain": [
       "\"dr. goldberg offers everything i look for in a general practitioner.  he's nice and easy to talk to without being patronizing; he's always on time in seeing his patients; he's affiliated with a top-notch hospital (nyu) which my parents have explained to me is very important in case something happens and you need surgery; and you can get referrals to see specialists without having to see him first.  really, what more do you need?  i'm sitting here trying to think of any complaints i have about him, but i'm really drawing a blank.\""
      ]
     },
     "execution_count": 22,
     "metadata": {},
     "output_type": "execute_result"
    }
   ],
   "source": [
    "review.text[0]"
   ]
  },
  {
   "cell_type": "code",
   "execution_count": 23,
   "metadata": {},
   "outputs": [
    {
     "name": "stdout",
     "output_type": "stream",
     "text": [
      "Rate: 5\n",
      "Text:\n",
      "['goldberg', 'everyth', 'gener', 'practition', 'nice', 'easi', 'without', 'patron', 'alway', 'hi', 'patient', 'affili', 'top-notch', 'hospit', 'nyu', 'explain', 'veri', 'import', 'someth', 'need', 'surgeri', 'referr', 'specialist', 'without', 'realli', 'more', 'need', '?', 'tri', 'ani', 'complaint', 'realli', 'blank']\n",
      "\n"
     ]
    }
   ],
   "source": [
    "print(Dataset[0])"
   ]
  },
  {
   "cell_type": "code",
   "execution_count": 16,
   "metadata": {},
   "outputs": [],
   "source": [
    "pk.dump( Dataset, open( \"Dataset.pickle\", \"wb\" ) )"
   ]
  },
  {
   "cell_type": "code",
   "execution_count": null,
   "metadata": {
    "collapsed": true
   },
   "outputs": [],
   "source": []
  }
 ],
 "metadata": {
  "kernelspec": {
   "display_name": "Python 3",
   "language": "python",
   "name": "python3"
  },
  "language_info": {
   "codemirror_mode": {
    "name": "ipython",
    "version": 3
   },
   "file_extension": ".py",
   "mimetype": "text/x-python",
   "name": "python",
   "nbconvert_exporter": "python",
   "pygments_lexer": "ipython3",
   "version": "3.6.3"
  }
 },
 "nbformat": 4,
 "nbformat_minor": 2
}
