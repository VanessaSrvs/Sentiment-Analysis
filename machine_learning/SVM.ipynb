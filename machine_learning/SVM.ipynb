{
 "cells": [
  {
   "cell_type": "code",
   "execution_count": 2,
   "metadata": {
    "collapsed": true
   },
   "outputs": [],
   "source": [
    "import numpy as np\n",
    "import pandas as pd\n",
    "\n",
    "import warnings; \n",
    "warnings.filterwarnings(\"ignore\")\n",
    "\n",
    "# Visualizations\n",
    "import seaborn as sns \n",
    "from matplotlib import pyplot as plt\n",
    "%matplotlib inline\n",
    "\n",
    "from sklearn.model_selection import KFold\n",
    "from sklearn.model_selection import cross_val_score\n",
    "from sklearn.model_selection import GridSearchCV\n",
    "from sklearn.model_selection import train_test_split\n",
    "from nltk.tokenize import word_tokenize\n",
    "\n",
    "# Text processing\n",
    "from sklearn.feature_extraction.text import CountVectorizer\n",
    "from sklearn.feature_extraction.text import TfidfTransformer\n",
    "\n",
    "# algorithm\n",
    "from sklearn.linear_model import SGDClassifier"
   ]
  },
  {
   "cell_type": "markdown",
   "metadata": {},
   "source": [
    "<h3>Load data</h3> "
   ]
  },
  {
   "cell_type": "code",
   "execution_count": 3,
   "metadata": {
    "collapsed": true
   },
   "outputs": [],
   "source": [
    "path_data = '../../../yelp_academic_dataset_review.pickle'\n",
    "data = pd.read_pickle(path_data)"
   ]
  },
  {
   "cell_type": "code",
   "execution_count": 4,
   "metadata": {
    "collapsed": true
   },
   "outputs": [],
   "source": [
    "# Removing all ('\\n') characters using list comprehensions\n",
    "data['text'] = [txt.replace('\\n', '') for txt in data['text']]\n",
    "\n",
    "# Taking only text and stars columns\n",
    "data = data.loc[:, ['text', 'stars']]"
   ]
  },
  {
   "cell_type": "markdown",
   "metadata": {},
   "source": [
    "<h3>Tokenizer</h3>"
   ]
  },
  {
   "cell_type": "code",
   "execution_count": null,
   "metadata": {
    "collapsed": true
   },
   "outputs": [],
   "source": [
    "#data[\"tokens\"] = data.apply(lambda row: word_tokenize(row[\"text\"]), axis=1)\n",
    "\n",
    "#data.head()"
   ]
  },
  {
   "cell_type": "markdown",
   "metadata": {},
   "source": [
    "<h3>Text representation</h3>"
   ]
  },
  {
   "cell_type": "markdown",
   "metadata": {},
   "source": [
    "The classifiers and learning algorithms can not directly process the text documents in their original form, as most of them expect numerical feature vectors with a fixed size rather than the raw text documents with variable length. Therefore, during the preprocessing step, the texts are converted to a more manageable representation."
   ]
  },
  {
   "cell_type": "code",
   "execution_count": 5,
   "metadata": {},
   "outputs": [],
   "source": [
    "X = data[\"text\"].tolist()\n",
    "y = data[\"stars\"].tolist()\n",
    "\n",
    "X_train, X_test, y_train, y_test = train_test_split(X, y, test_size=0.2, random_state=42)\n",
    "\n",
    "def count_vectorize(data):\n",
    "    count_vectorizer = CountVectorizer()\n",
    "    \n",
    "    embedding = count_vectorizer.fit_transform(data)\n",
    "    \n",
    "    return embedding, count_vectorizer\n",
    "\n",
    "def tfidf_transform(data):\n",
    "    tfidf_transformer = TfidfTransformer()\n",
    "    \n",
    "    text_freq = tfidf_transformer.fit_transform(data)\n",
    "    \n",
    "    return text_freq, tfidf_transformer\n",
    "\n",
    "X_train_counts, count_vectorizer = count_vectorize(X_train)\n",
    "X_test_counts = count_vectorizer.transform(X_test)\n",
    "\n",
    "X_train_tfidf, tfidf_transformer = tfidf_transform(X_train_counts)\n",
    "X_test_tfidf = tfidf_transformer.transform(X_test_counts)"
   ]
  },
  {
   "cell_type": "markdown",
   "metadata": {},
   "source": [
    "<h3>Tuning parameters</h3>"
   ]
  },
  {
   "cell_type": "code",
   "execution_count": 6,
   "metadata": {
    "scrolled": true
   },
   "outputs": [
    {
     "name": "stdout",
     "output_type": "stream",
     "text": [
      "0.556845 (0.002376) with n_trees : 1e-07\n",
      "0.600411 (0.002297) with n_trees : 1e-06\n",
      "0.594109 (0.001143) with n_trees : 1e-05\n",
      "0.555544 (0.001238) with n_trees : 0.0001\n",
      "0.504896 (0.001676) with n_trees : 0.001\n",
      "0.476975 (0.003381) with n_trees : 0.01\n",
      "0.369376 (0.000895) with n_trees : 0.1\n"
     ]
    }
   ],
   "source": [
    "alpha_values=[1e-7,1e-6,1e-5,1e-4,1e-3,1e-2,1e-1]\n",
    "accuracy_means = []\n",
    "accuracy_stdevs=[]\n",
    "num_folds=5\n",
    "seed=42\n",
    "\n",
    "#temporary only a part of the data\n",
    "X_train_tfidf_t=X_train_tfidf[:]\n",
    "y_train_t=y_train[:]\n",
    "\n",
    "for alpha_value in alpha_values:\n",
    "    model = SGDClassifier(loss='hinge', penalty='l2', alpha=alpha_value, average=False, class_weight=None, epsilon=0.1,\n",
    "    eta0=0.0, fit_intercept=True, l1_ratio=0.15, learning_rate='optimal',  max_iter=5, n_iter=None, n_jobs=1, power_t=0.5, \n",
    "    random_state=42, shuffle=True, tol=None, verbose=0, warm_start=False)\n",
    "    \n",
    "    kfold = KFold(n_splits=num_folds, random_state=seed)\n",
    "    cv_results = cross_val_score(model, X_train_tfidf_t, y_train_t, scoring='accuracy', cv=kfold)\n",
    "    accuracy_means.append(cv_results.mean())\n",
    "    accuracy_stdevs.append(cv_results.std())\n",
    "    \n",
    "for accuracy_mean, accuracy_stdev, alpha_value in zip(accuracy_means, accuracy_stdevs, alpha_values):\n",
    "    print(\"%f (%f) with n_trees : %r\" % (accuracy_mean, accuracy_stdev, alpha_value))"
   ]
  },
  {
   "cell_type": "code",
   "execution_count": 7,
   "metadata": {},
   "outputs": [
    {
     "data": {
      "image/png": "[encoded data removed]",
      "text/plain": [
       "<matplotlib.figure.Figure at 0x20fb68bd128>"
      ]
     },
     "metadata": {},
     "output_type": "display_data"
    }
   ],
   "source": [
    "sns.pointplot(x=alpha_values, y=accuracy_means)\n",
    "plt.title(\"SVM alpha_value vs accuracy\")\n",
    "plt.xlabel(\"alpha\")\n",
    "plt.ylabel(\"Accuracy\")\n",
    "plt.savefig(\"SVM_SGD.png\")"
   ]
  },
  {
   "cell_type": "markdown",
   "metadata": {},
   "source": [
    "<h3>Testing Data<h3>"
   ]
  },
  {
   "cell_type": "code",
   "execution_count": 8,
   "metadata": {},
   "outputs": [
    {
     "data": {
      "text/plain": [
       "0.60388462114429364"
      ]
     },
     "execution_count": 8,
     "metadata": {},
     "output_type": "execute_result"
    }
   ],
   "source": [
    "best_alpha=alpha_values[0]\n",
    "best_accuracy=accuracy_means[0]\n",
    "for i in range(len(alpha_values)):\n",
    "    if accuracy_means[i]>best_accuracy:\n",
    "        best_accuracy=accuracy_means[i]\n",
    "        best_alpha=alpha_values[i]\n",
    "\n",
    "svm_clf = SGDClassifier(loss='hinge', penalty='l2', alpha=best_alpha, average=False, class_weight=None, epsilon=0.1,\n",
    "    eta0=0.0, fit_intercept=True, l1_ratio=0.15, learning_rate='optimal',  max_iter=5, n_iter=None, n_jobs=1, power_t=0.5, \n",
    "    random_state=42, shuffle=True, tol=None, verbose=0, warm_start=False).fit(X_train_tfidf,y_train)\n",
    "svm_clf.score(X_test_tfidf,y_test)"
   ]
  },
  {
   "cell_type": "code",
   "execution_count": null,
   "metadata": {
    "collapsed": true
   },
   "outputs": [],
   "source": []
  }
 ],
 "metadata": {
  "kernelspec": {
   "display_name": "Python 3",
   "language": "python",
   "name": "python3"
  }
 },
 "nbformat": 4,
 "nbformat_minor": 2
}
