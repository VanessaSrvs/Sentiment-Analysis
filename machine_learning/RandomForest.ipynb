{
 "cells": [
  {
   "cell_type": "code",
   "execution_count": 1,
   "metadata": {
    "collapsed": true
   },
   "outputs": [],
   "source": [
    "import numpy as np\n",
    "import pandas as pd\n",
    "\n",
    "# Visualizations\n",
    "import seaborn as sns \n",
    "from matplotlib import pyplot as plt\n",
    "%matplotlib inline\n",
    "\n",
    "from sklearn.model_selection import KFold\n",
    "from sklearn.model_selection import cross_val_score\n",
    "from sklearn.model_selection import GridSearchCV\n",
    "from sklearn.model_selection import train_test_split\n",
    "from nltk.tokenize import word_tokenize\n",
    "\n",
    "# Text processing\n",
    "from sklearn.feature_extraction.text import CountVectorizer\n",
    "from sklearn.feature_extraction.text import TfidfTransformer\n",
    "\n",
    "# Ensemble algorithm\n",
    "from sklearn.ensemble import RandomForestClassifier"
   ]
  },
  {
   "cell_type": "markdown",
   "metadata": {},
   "source": [
    "<h3>Load data</h3>"
   ]
  },
  {
   "cell_type": "code",
   "execution_count": 24,
   "metadata": {
    "collapsed": true
   },
   "outputs": [],
   "source": [
    "path_data = '../../../yelp_academic_dataset_review.pickle'\n",
    "data = pd.read_pickle(path_data)"
   ]
  },
  {
   "cell_type": "code",
   "execution_count": 25,
   "metadata": {
    "collapsed": true
   },
   "outputs": [],
   "source": [
    "# Removing all ('\\n') characters using list comprehensions\n",
    "data['text'] = [txt.replace('\\n', '') for txt in data['text']]\n",
    "\n",
    "# Taking only text and stars columns\n",
    "data = data.loc[:, ['text', 'stars']]"
   ]
  },
  {
   "cell_type": "markdown",
   "metadata": {},
   "source": [
    "<h3>Tokenizer</h3>"
   ]
  },
  {
   "cell_type": "code",
   "execution_count": 4,
   "metadata": {},
   "outputs": [
    {
     "data": {
      "text/html": [
       "<div>\n",
       "<style>\n",
       "    .dataframe thead tr:only-child th {\n",
       "        text-align: right;\n",
       "    }\n",
       "\n",
       "    .dataframe thead th {\n",
       "        text-align: left;\n",
       "    }\n",
       "\n",
       "    .dataframe tbody tr th {\n",
       "        vertical-align: top;\n",
       "    }\n",
       "</style>\n",
       "<table border=\"1\" class=\"dataframe\">\n",
       "  <thead>\n",
       "    <tr style=\"text-align: right;\">\n",
       "      <th></th>\n",
       "      <th>text</th>\n",
       "      <th>stars</th>\n",
       "      <th>tokens</th>\n",
       "    </tr>\n",
       "  </thead>\n",
       "  <tbody>\n",
       "    <tr>\n",
       "      <th>0</th>\n",
       "      <td>dr. goldberg offers everything i look for in a...</td>\n",
       "      <td>5</td>\n",
       "      <td>[dr., goldberg, offers, everything, i, look, f...</td>\n",
       "    </tr>\n",
       "    <tr>\n",
       "      <th>1</th>\n",
       "      <td>Unfortunately, the frustration of being Dr. Go...</td>\n",
       "      <td>2</td>\n",
       "      <td>[Unfortunately, ,, the, frustration, of, being...</td>\n",
       "    </tr>\n",
       "    <tr>\n",
       "      <th>2</th>\n",
       "      <td>Dr. Goldberg has been my doctor for years and ...</td>\n",
       "      <td>4</td>\n",
       "      <td>[Dr., Goldberg, has, been, my, doctor, for, ye...</td>\n",
       "    </tr>\n",
       "    <tr>\n",
       "      <th>3</th>\n",
       "      <td>Been going to Dr. Goldberg for over 10 years. ...</td>\n",
       "      <td>4</td>\n",
       "      <td>[Been, going, to, Dr., Goldberg, for, over, 10...</td>\n",
       "    </tr>\n",
       "    <tr>\n",
       "      <th>4</th>\n",
       "      <td>Got a letter in the mail last week that said D...</td>\n",
       "      <td>4</td>\n",
       "      <td>[Got, a, letter, in, the, mail, last, week, th...</td>\n",
       "    </tr>\n",
       "  </tbody>\n",
       "</table>\n",
       "</div>"
      ],
      "text/plain": [
       "                                                text  stars  \\\n",
       "0  dr. goldberg offers everything i look for in a...      5   \n",
       "1  Unfortunately, the frustration of being Dr. Go...      2   \n",
       "2  Dr. Goldberg has been my doctor for years and ...      4   \n",
       "3  Been going to Dr. Goldberg for over 10 years. ...      4   \n",
       "4  Got a letter in the mail last week that said D...      4   \n",
       "\n",
       "                                              tokens  \n",
       "0  [dr., goldberg, offers, everything, i, look, f...  \n",
       "1  [Unfortunately, ,, the, frustration, of, being...  \n",
       "2  [Dr., Goldberg, has, been, my, doctor, for, ye...  \n",
       "3  [Been, going, to, Dr., Goldberg, for, over, 10...  \n",
       "4  [Got, a, letter, in, the, mail, last, week, th...  "
      ]
     },
     "execution_count": 4,
     "metadata": {},
     "output_type": "execute_result"
    }
   ],
   "source": [
    "#data[\"tokens\"] = data.apply(lambda row: word_tokenize(row[\"text\"]), axis=1)\n",
    "\n",
    "#data.head()"
   ]
  },
  {
   "cell_type": "markdown",
   "metadata": {},
   "source": [
    "<h3>Text representation</h3>"
   ]
  },
  {
   "cell_type": "markdown",
   "metadata": {},
   "source": [
    "The classifiers and learning algorithms can not directly process the text documents in their original form, as most of them expect numerical feature vectors with a fixed size rather than the raw text documents with variable length. Therefore, during the preprocessing step, the texts are converted to a more manageable representation."
   ]
  },
  {
   "cell_type": "code",
   "execution_count": 26,
   "metadata": {},
   "outputs": [],
   "source": [
    "X = data[\"text\"].tolist()\n",
    "y = data[\"stars\"].tolist()\n",
    "\n",
    "X_train, X_test, y_train, y_test = train_test_split(X, y, test_size=0.2, random_state=42)\n",
    "\n",
    "def count_vectorize(data):\n",
    "    count_vectorizer = CountVectorizer()\n",
    "    \n",
    "    embedding = count_vectorizer.fit_transform(data)\n",
    "    \n",
    "    return embedding, count_vectorizer\n",
    "\n",
    "def tfidf_transform(data):\n",
    "    tfidf_transformer = TfidfTransformer()\n",
    "    \n",
    "    text_freq = tfidf_transformer.fit_transform(data)\n",
    "    \n",
    "    return text_freq, tfidf_transformer\n",
    "\n",
    "X_train_counts, count_vectorizer = count_vectorize(X_train)\n",
    "X_test_counts = count_vectorizer.transform(X_test)\n",
    "\n",
    "X_train_tfidf, tfidf_transformer = tfidf_transform(X_train_counts)\n",
    "X_test_tfidf = tfidf_transformer.transform(X_test_counts)"
   ]
  },
  {
   "cell_type": "markdown",
   "metadata": {},
   "source": [
    "<h3>Tuning parameters</h3>"
   ]
  },
  {
   "cell_type": "code",
   "execution_count": 31,
   "metadata": {
    "scrolled": false
   },
   "outputs": [
    {
     "name": "stdout",
     "output_type": "stream",
     "text": [
      "0.390000 (0.020976) with n_trees : 50\n",
      "0.408000 (0.011662) with n_trees : 100\n",
      "0.402000 (0.025612) with n_trees : 150\n",
      "0.392000 (0.017493) with n_trees : 200\n",
      "0.395000 (0.018708) with n_trees : 250\n"
     ]
    }
   ],
   "source": [
    "#n_trees = [50, 100, 150, 200, 250, 300, 350, 400]\n",
    "n_trees=[50,100,150,200,250]\n",
    "accuracy_means = []\n",
    "accuracy_stdevs=[]\n",
    "num_folds=5\n",
    "seed=42\n",
    "\n",
    "#temporary only a part of the data\n",
    "X_train_tfidf_t=X_train_tfidf[:1000]\n",
    "y_train_t=y_train[:1000]\n",
    "\n",
    "for n_tree in n_trees:\n",
    "    model = RandomForestClassifier(n_estimators=n_tree, random_state=42, n_jobs=-1)\n",
    "    kfold = KFold(n_splits=num_folds, random_state=seed)\n",
    "    cv_results = cross_val_score(model, X_train_tfidf_t, y_train_t, scoring='accuracy', cv=kfold)\n",
    "    accuracy_means.append(cv_results.mean())\n",
    "    accuracy_stdevs.append(cv_results.std())\n",
    "    \n",
    "for accuracy_mean, accuracy_stdev, n_tree in zip(accuracy_means, accuracy_stdevs, n_trees):\n",
    "    print(\"%f (%f) with n_trees : %r\" % (accuracy_mean, accuracy_stdev, n_tree))"
   ]
  },
  {
   "cell_type": "code",
   "execution_count": 32,
   "metadata": {},
   "outputs": [
    {
     "data": {
      "text/plain": [
       "Text(0,0.5,'Accuracy')"
      ]
     },
     "execution_count": 32,
     "metadata": {},
     "output_type": "execute_result"
    },
    {
     "data": {
      "image/png": "[encoded data removed]",
      "text/plain": [
       "<matplotlib.figure.Figure at 0x1c60a814630>"
      ]
     },
     "metadata": {},
     "output_type": "display_data"
    }
   ],
   "source": [
    "sns.pointplot(x=n_trees, y=accuracy_means)\n",
    "plt.title(\"Random Forest n_estimators vs accuracy\")\n",
    "plt.xlabel(\"n_estimators\")\n",
    "plt.ylabel(\"Accuracy\")"
   ]
  },
  {
   "cell_type": "code",
   "execution_count": null,
   "metadata": {
    "collapsed": true
   },
   "outputs": [],
   "source": []
  }
 ],
 "metadata": {
  "kernelspec": {
   "display_name": "Python 3",
   "language": "python",
   "name": "python3"
  },
  "language_info": {
   "codemirror_mode": {
    "name": "ipython",
    "version": 3
   },
   "file_extension": ".py",
   "mimetype": "text/x-python",
   "name": "python",
   "nbconvert_exporter": "python",
   "pygments_lexer": "ipython3",
   "version": "3.6.3"
  }
 },
 "nbformat": 4,
 "nbformat_minor": 2
}
