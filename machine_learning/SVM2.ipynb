{
 "cells": [
  {
   "cell_type": "code",
   "execution_count": 3,
   "metadata": {
    "collapsed": true
   },
   "outputs": [],
   "source": [
    "import numpy as np\n",
    "import pandas as pd\n",
    "\n",
    "import warnings; \n",
    "warnings.filterwarnings(\"ignore\")\n",
    "\n",
    "# Visualizations\n",
    "import seaborn as sns \n",
    "from matplotlib import pyplot as plt\n",
    "%matplotlib inline\n",
    "\n",
    "from sklearn.model_selection import KFold\n",
    "from sklearn.model_selection import cross_val_score\n",
    "from sklearn.model_selection import GridSearchCV\n",
    "from sklearn.model_selection import train_test_split\n",
    "from nltk.tokenize import word_tokenize\n",
    "\n",
    "# Text processing\n",
    "from sklearn.feature_extraction.text import CountVectorizer\n",
    "from sklearn.feature_extraction.text import TfidfTransformer\n",
    "\n",
    "# algorithm\n",
    "#from sklearn.linear_model import SGDClassifier\n",
    "from sklearn.svm import LinearSVC"
   ]
  },
  {
   "cell_type": "markdown",
   "metadata": {},
   "source": [
    "<h3>Load data</h3> "
   ]
  },
  {
   "cell_type": "code",
   "execution_count": 4,
   "metadata": {
    "collapsed": true
   },
   "outputs": [],
   "source": [
    "path_data = '../../../yelp_academic_dataset_review.pickle'\n",
    "data = pd.read_pickle(path_data)"
   ]
  },
  {
   "cell_type": "code",
   "execution_count": 5,
   "metadata": {
    "collapsed": true
   },
   "outputs": [],
   "source": [
    "# Removing all ('\\n') characters using list comprehensions\n",
    "data['text'] = [txt.replace('\\n', '') for txt in data['text']]\n",
    "\n",
    "# Taking only text and stars columns\n",
    "data = data.loc[:, ['text', 'stars']]"
   ]
  },
  {
   "cell_type": "markdown",
   "metadata": {},
   "source": [
    "<h3>Tokenizer</h3>"
   ]
  },
  {
   "cell_type": "code",
   "execution_count": 6,
   "metadata": {
    "collapsed": true
   },
   "outputs": [],
   "source": [
    "#data[\"tokens\"] = data.apply(lambda row: word_tokenize(row[\"text\"]), axis=1)\n",
    "\n",
    "#data.head()"
   ]
  },
  {
   "cell_type": "markdown",
   "metadata": {},
   "source": [
    "<h3>Text representation</h3>"
   ]
  },
  {
   "cell_type": "markdown",
   "metadata": {},
   "source": [
    "The classifiers and learning algorithms can not directly process the text documents in their original form, as most of them expect numerical feature vectors with a fixed size rather than the raw text documents with variable length. Therefore, during the preprocessing step, the texts are converted to a more manageable representation."
   ]
  },
  {
   "cell_type": "code",
   "execution_count": 7,
   "metadata": {
    "collapsed": true
   },
   "outputs": [],
   "source": [
    "X = data[\"text\"].tolist()\n",
    "y = data[\"stars\"].tolist()\n",
    "\n",
    "X_train, X_test, y_train, y_test = train_test_split(X, y, test_size=0.2, random_state=42)\n",
    "\n",
    "def count_vectorize(data):\n",
    "    count_vectorizer = CountVectorizer()\n",
    "    \n",
    "    embedding = count_vectorizer.fit_transform(data)\n",
    "    \n",
    "    return embedding, count_vectorizer\n",
    "\n",
    "def tfidf_transform(data):\n",
    "    tfidf_transformer = TfidfTransformer()\n",
    "    \n",
    "    text_freq = tfidf_transformer.fit_transform(data)\n",
    "    \n",
    "    return text_freq, tfidf_transformer\n",
    "\n",
    "X_train_counts, count_vectorizer = count_vectorize(X_train)\n",
    "X_test_counts = count_vectorizer.transform(X_test)\n",
    "\n",
    "X_train_tfidf, tfidf_transformer = tfidf_transform(X_train_counts)\n",
    "X_test_tfidf = tfidf_transformer.transform(X_test_counts)"
   ]
  },
  {
   "cell_type": "markdown",
   "metadata": {},
   "source": [
    "<h3>Tuning parameters</h3>"
   ]
  },
  {
   "cell_type": "code",
   "execution_count": 10,
   "metadata": {
    "scrolled": false
   },
   "outputs": [
    {
     "name": "stdout",
     "output_type": "stream",
     "text": [
      "0.436900 (0.003089) with C_value : 0.01\n",
      "0.484800 (0.007782) with C_value : 0.021544346900318832\n",
      "0.524000 (0.003578) with C_value : 0.046415888336127774\n",
      "0.548800 (0.005887) with C_value : 0.10000000000000001\n",
      "0.552700 (0.007878) with C_value : 0.21544346900318834\n",
      "0.547200 (0.009760) with C_value : 0.46415888336127775\n",
      "0.535500 (0.007550) with C_value : 1.0\n",
      "0.520700 (0.006038) with C_value : 2.154434690031882\n",
      "0.508400 (0.005616) with C_value : 4.6415888336127775\n",
      "0.497200 (0.004179) with C_value : 10.0\n"
     ]
    }
   ],
   "source": [
    "#C_values=[1e-4,(1/3)*1e-3,(2/3)*1e-3,1e-3,(1/3)*1e-2,(2/3)*1e-2,1e-2,(1/3)*1e-1,(2/3)*1e-1,1e-1,(1/3),(2/3),1,(1/3)*1e+1,(2/3)*1e+1,1e+1,(1/3)*1e+2,(2/3)*1e+2,1e+2,(1/3)*1e+3,(2/3)*1e+3,1e+3]\n",
    "#C_values=np.logspace(-4, 3, num=14, endpoint=True, base=10.0, dtype=None)\n",
    "#C_values for global graph\n",
    "C_values=[1e-5,1e-4,1e-3,1e-2,1e-1,1,1e+1,1e+2,1e+3,1e+4]\n",
    "#C_values for zoomed graph\n",
    "C_values=np.logspace(-2,1,num=10, endpoint=True, base=10.0, dtype=None)\n",
    "\n",
    "accuracy_means = []\n",
    "accuracy_stdevs=[]\n",
    "num_folds=5\n",
    "seed=42\n",
    "\n",
    "#temporary only a part of the data\n",
    "X_train_tfidf_t=X_train_tfidf[:10000]\n",
    "y_train_t=y_train[:10000]\n",
    "\n",
    "for C_value in C_values:\n",
    "    model = LinearSVC(C=C_value)\n",
    "    \n",
    "    kfold = KFold(n_splits=num_folds, random_state=seed)\n",
    "    cv_results = cross_val_score(model, X_train_tfidf_t, y_train_t, scoring='accuracy', cv=kfold)\n",
    "    accuracy_means.append(cv_results.mean())\n",
    "    accuracy_stdevs.append(cv_results.std())\n",
    "    \n",
    "for accuracy_mean, accuracy_stdev, C_value in zip(accuracy_means, accuracy_stdevs, C_values):\n",
    "    print(\"%f (%f) with C_value : %r\" % (accuracy_mean, accuracy_stdev, C_value))"
   ]
  },
  {
   "cell_type": "code",
   "execution_count": 9,
   "metadata": {},
   "outputs": [
    {
     "data": {
      "image/png": "[encoded data removed]",
      "text/plain": [
       "<matplotlib.figure.Figure at 0x2242c3e7128>"
      ]
     },
     "metadata": {},
     "output_type": "display_data"
    }
   ],
   "source": [
    "#import decimal\n",
    "#plt.figure(figsize=(15,15))\n",
    "#C=[]\n",
    "#for C_value in C_values:\n",
    "#    C.append(round(C_value,4))\n",
    "sns.pointplot(x=C_values, y=accuracy_means)\n",
    "#plt.semilogx(basex=3)\n",
    "plt.title(\"SVM C_value vs accuracy\")\n",
    "plt.xlabel(\"C\")\n",
    "plt.ylabel(\"Accuracy\")\n",
    "plt.savefig(\"linearSVM_big.png\")"
   ]
  },
  {
   "cell_type": "code",
   "execution_count": 13,
   "metadata": {},
   "outputs": [
    {
     "data": {
      "image/png": "[encoded data removed]",
      "text/plain": [
       "<matplotlib.figure.Figure at 0x2249d1d1f28>"
      ]
     },
     "metadata": {},
     "output_type": "display_data"
    }
   ],
   "source": [
    "import decimal\n",
    "#plt.figure(figsize=(15,15))\n",
    "C=[]\n",
    "for C_value in C_values:\n",
    "    C.append(round(C_value,2))\n",
    "sns.pointplot(x=C, y=accuracy_means)\n",
    "#plt.semilogx(basex=3)\n",
    "plt.title(\"SVM C_value vs accuracy\")\n",
    "plt.xlabel(\"C\")\n",
    "plt.ylabel(\"Accuracy\")\n",
    "plt.savefig(\"linearSVM_zoom.png\")"
   ]
  },
  {
   "cell_type": "markdown",
   "metadata": {},
   "source": [
    "<h3>Testing Data<h3>"
   ]
  },
  {
   "cell_type": "code",
   "execution_count": 15,
   "metadata": {},
   "outputs": [
    {
     "data": {
      "text/plain": [
       "0.57320000000000004"
      ]
     },
     "execution_count": 15,
     "metadata": {},
     "output_type": "execute_result"
    }
   ],
   "source": [
    "best_C=C_values[0]\n",
    "best_accuracy=accuracy_means[0]\n",
    "\n",
    "X_test_tfidf_t=X_test_tfidf[:2500]\n",
    "y_test_t=y_test[:2500]\n",
    "for i in range(len(C_values)):\n",
    "    if accuracy_means[i]>best_accuracy:\n",
    "        best_accuracy=accuracy_means[i]\n",
    "        best_C=C_values[i]\n",
    "\n",
    "svm_clf = LinearSVC(C=best_C).fit(X_train_tfidf_t,y_train_t)\n",
    "svm_clf.score(X_test_tfidf_t,y_test_t)"
   ]
  },
  {
   "cell_type": "code",
   "execution_count": null,
   "metadata": {
    "collapsed": true
   },
   "outputs": [],
   "source": []
  }
 ],
 "metadata": {
  "kernelspec": {
   "display_name": "Python 3",
   "language": "python",
   "name": "python3"
  }
 },
 "nbformat": 4,
 "nbformat_minor": 2
}
